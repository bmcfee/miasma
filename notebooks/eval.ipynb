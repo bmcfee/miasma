{
 "cells": [
  {
   "cell_type": "code",
   "execution_count": 1,
   "metadata": {
    "collapsed": false,
    "deletable": true,
    "editable": true
   },
   "outputs": [
    {
     "name": "stderr",
     "output_type": "stream",
     "text": [
      "Using Theano backend.\n",
      "WARNING (theano.sandbox.cuda): The cuda backend is deprecated and will be removed in the next release.  Please switch to the gpuarray backend. You can get more information about how to switch at this URL:\n",
      " https://github.com/Theano/Theano/wiki/Converting-to-the-new-gpu-back-end%28gpuarray%29\n",
      "\n",
      "ERROR (theano.sandbox.cuda): nvcc compiler not found on $PATH. Check your nvcc installation and try again.\n"
     ]
    },
    {
     "name": "stdout",
     "output_type": "stream",
     "text": [
      "keras version: 1.2.2\n",
      "theano version: 0.9.0beta1\n",
      "pescador version: 0.1.3\n",
      "numpy version: 1.12.0\n"
     ]
    }
   ],
   "source": [
    "%matplotlib inline\n",
    "import matplotlib.pyplot as plt\n",
    "from miasma.miasma import eval_exp as EE\n",
    "from imp import reload"
   ]
  },
  {
   "cell_type": "markdown",
   "metadata": {},
   "source": [
    "## EXP003\n",
    "* arch: 32 conv 3x3 + 32 conv 3x3 + 32 conv fullheight + pooling\n",
    "* pooling: softmax / max / mean / none\n",
    "* samples per epoch: 1024\n",
    "* epochs: 50"
   ]
  },
  {
   "cell_type": "code",
   "execution_count": 2,
   "metadata": {
    "collapsed": false,
    "deletable": true,
    "editable": true,
    "scrolled": false
   },
   "outputs": [
    {
     "name": "stdout",
     "output_type": "stream",
     "text": [
      "-------------------- BAG LEVEL EVALUATION --------------------\n",
      "\n",
      "SOFTMAX POOLING\n",
      "split2: acc: 0.72\tpre: 0.90\trec: 0.55\t0/1: 4788/5503\tbaseline: 0.53\n",
      "split3: acc: 0.65\tpre: 0.42\trec: 0.86\t0/1: 7961/2924\tbaseline: 0.73\n",
      "split4: acc: 0.70\tpre: 0.64\trec: 0.80\t0/1: 5699/4810\tbaseline: 0.54\n",
      "split5: acc: 0.73\tpre: 0.69\trec: 0.69\t0/1: 5862/4604\tbaseline: 0.56\n",
      "split6: acc: 0.80\tpre: 0.50\trec: 0.66\t0/1: 8171/2001\tbaseline: 0.80\n",
      "\u001b[1m\u001b[35maverag: acc: 0.72\tpre: 0.63\trec: 0.71\t0/1: 6496/3968\tbaseline: 0.63\u001b[0m\n",
      "\n",
      "MAX POOLING\n",
      "split2: acc: 0.75\tpre: 0.86\trec: 0.65\t0/1: 4788/5503\tbaseline: 0.53\n",
      "split3: acc: 0.74\tpre: 0.52\trec: 0.74\t0/1: 7961/2924\tbaseline: 0.73\n",
      "split4: acc: 0.64\tpre: 0.62\trec: 0.58\t0/1: 5699/4810\tbaseline: 0.54\n",
      "split5: acc: 0.73\tpre: 0.81\trec: 0.50\t0/1: 5862/4604\tbaseline: 0.56\n",
      "split6: acc: 0.81\tpre: 0.51\trec: 0.58\t0/1: 8171/2001\tbaseline: 0.80\n",
      "\u001b[1m\u001b[35maverag: acc: 0.74\tpre: 0.66\trec: 0.61\t0/1: 6496/3968\tbaseline: 0.63\u001b[0m\n",
      "\n",
      "MEAN POOLING\n",
      "split2: acc: 0.75\tpre: 0.90\trec: 0.60\t0/1: 4788/5503\tbaseline: 0.53\n",
      "split3: acc: 0.66\tpre: 0.43\trec: 0.80\t0/1: 7961/2924\tbaseline: 0.73\n",
      "split4: acc: 0.70\tpre: 0.62\trec: 0.85\t0/1: 5699/4810\tbaseline: 0.54\n",
      "split5: acc: 0.72\tpre: 0.72\trec: 0.61\t0/1: 5862/4604\tbaseline: 0.56\n",
      "split6: acc: 0.81\tpre: 0.51\trec: 0.60\t0/1: 8171/2001\tbaseline: 0.80\n",
      "\u001b[1m\u001b[35maverag: acc: 0.73\tpre: 0.64\trec: 0.69\t0/1: 6496/3968\tbaseline: 0.63\u001b[0m\n",
      "\n",
      "-------------------- FRAME LEVEL EVALUATION --------------------\n",
      "\n",
      "SOFTMAX POOLING\n",
      "split2: acc: 0.69\tpre: 0.81\trec: 0.54\t0/1: 217843/234961\tbaseline: 0.52\n",
      "split3: acc: 0.68\tpre: 0.38\trec: 0.35\t0/1: 352479/126461\tbaseline: 0.74\n",
      "split4: acc: 0.64\tpre: 0.56\trec: 0.92\t0/1: 256146/206250\tbaseline: 0.55\n",
      "split5: acc: 0.70\tpre: 0.68\trec: 0.56\t0/1: 263477/197027\tbaseline: 0.57\n",
      "split6: acc: 0.61\tpre: 0.29\trec: 0.80\t0/1: 364374/83194\tbaseline: 0.81\n",
      "\u001b[1m\u001b[35maverag: acc: 0.66\tpre: 0.55\trec: 0.63\t0/1: 290864/169579\tbaseline: 0.64\u001b[0m\n",
      "\n",
      "MAX POOLING\n",
      "split2: acc: 0.61\tpre: 0.90\trec: 0.27\t0/1: 217843/234961\tbaseline: 0.52\n",
      "split3: acc: 0.74\tpre: 0.95\trec: 0.00\t0/1: 352479/126461\tbaseline: 0.74\n",
      "split4: acc: 0.56\tpre: 0.56\trec: 0.10\t0/1: 256146/206250\tbaseline: 0.55\n",
      "split5: acc: 0.65\tpre: 0.81\trec: 0.25\t0/1: 263477/197027\tbaseline: 0.57\n",
      "split6: acc: 0.62\tpre: 0.22\trec: 0.42\t0/1: 364374/83194\tbaseline: 0.81\n",
      "\u001b[1m\u001b[35maverag: acc: 0.64\tpre: 0.69\trec: 0.21\t0/1: 290864/169579\tbaseline: 0.64\u001b[0m\n",
      "\n",
      "MEAN POOLING\n",
      "split2: acc: 0.70\tpre: 0.77\trec: 0.60\t0/1: 217843/234961\tbaseline: 0.52\n",
      "split3: acc: 0.66\tpre: 0.36\trec: 0.37\t0/1: 352479/126461\tbaseline: 0.74\n",
      "split4: acc: 0.54\tpre: 0.49\trec: 0.97\t0/1: 256146/206250\tbaseline: 0.55\n",
      "split5: acc: 0.60\tpre: 0.53\trec: 0.65\t0/1: 263477/197027\tbaseline: 0.57\n",
      "split6: acc: 0.39\tpre: 0.22\trec: 0.90\t0/1: 364374/83194\tbaseline: 0.81\n",
      "\u001b[1m\u001b[35maverag: acc: 0.58\tpre: 0.47\trec: 0.70\t0/1: 290864/169579\tbaseline: 0.64\u001b[0m\n",
      "\n",
      "NONE POOLING\n",
      "split2: acc: 0.71\tpre: 0.81\trec: 0.57\t0/1: 217843/234961\tbaseline: 0.52\n",
      "split3: acc: 0.63\tpre: 0.40\trec: 0.74\t0/1: 352479/126461\tbaseline: 0.74\n",
      "split4: acc: 0.66\tpre: 0.60\trec: 0.76\t0/1: 256146/206250\tbaseline: 0.55\n",
      "split5: acc: 0.69\tpre: 0.65\trec: 0.61\t0/1: 263477/197027\tbaseline: 0.57\n",
      "split6: acc: 0.77\tpre: 0.42\trec: 0.58\t0/1: 364374/83194\tbaseline: 0.81\n",
      "\u001b[1m\u001b[35maverag: acc: 0.69\tpre: 0.57\trec: 0.65\t0/1: 290864/169579\tbaseline: 0.64\u001b[0m\n"
     ]
    },
    {
     "data": {
      "image/png": "[encoded data removed]",
      "text/plain": [
       "<matplotlib.figure.Figure at 0x2b0ab810a0f0>"
      ]
     },
     "metadata": {},
     "output_type": "display_data"
    }
   ],
   "source": [
    "reload(EE)\n",
    "df = EE.eval_exp('exp003')"
   ]
  },
  {
   "cell_type": "code",
   "execution_count": null,
   "metadata": {
    "collapsed": true,
    "deletable": true,
    "editable": true
   },
   "outputs": [],
   "source": []
  }
 ],
 "metadata": {
  "kernelspec": {
   "display_name": "Python [conda env:py35hpcT9b]",
   "language": "python",
   "name": "conda-env-py35hpcT9b-py"
  },
  "language_info": {
   "codemirror_mode": {
    "name": "ipython",
    "version": 3
   },
   "file_extension": ".py",
   "mimetype": "text/x-python",
   "name": "python",
   "nbconvert_exporter": "python",
   "pygments_lexer": "ipython3",
   "version": "3.5.3"
  }
 },
 "nbformat": 4,
 "nbformat_minor": 2
}
