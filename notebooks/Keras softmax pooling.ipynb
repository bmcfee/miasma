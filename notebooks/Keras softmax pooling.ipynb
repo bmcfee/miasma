{
 "cells": [
  {
   "cell_type": "code",
   "execution_count": 19,
   "metadata": {
    "collapsed": false
   },
   "outputs": [],
   "source": [
    "from keras import backend as K\n",
    "from keras.engine.topology import Layer\n",
    "from keras.layers import Lambda\n",
    "from keras.models import Sequential, Model\n",
    "from keras.layers import Dense, Dropout, Activation, Flatten, Input\n",
    "from keras.layers import Convolution2D, MaxPooling2D\n",
    "from keras.utils import np_utils"
   ]
  },
  {
   "cell_type": "code",
   "execution_count": 2,
   "metadata": {
    "collapsed": true
   },
   "outputs": [],
   "source": [
    "import numpy as np"
   ]
  },
  {
   "cell_type": "code",
   "execution_count": 3,
   "metadata": {
    "collapsed": true
   },
   "outputs": [],
   "source": [
    "def _keras_smp(x):\n",
    "    m = K.max(x, axis=-1, keepdims=True)\n",
    "    sm = K.exp(x - m)\n",
    "    w = sm / K.sum(sm, axis=-1, keepdims=True)\n",
    "    return K.sum(x * w, axis=-1)\n",
    "    \n",
    "def _keras_smp_shape(input_shape):\n",
    "    shape = list(input_shape)\n",
    "    return tuple(shape[:-1])"
   ]
  },
  {
   "cell_type": "code",
   "execution_count": 11,
   "metadata": {
    "collapsed": true
   },
   "outputs": [],
   "source": [
    "def smp(x, axis=-1):\n",
    "    \n",
    "    m = x.max(axis=axis, keepdims=True)\n",
    "    sm = np.exp(x - m)   #exp(x - m) = exp(x) / exp(m)\n",
    "    w = sm / np.sum(sm, axis=axis, keepdims=True)\n",
    "    \n",
    "    return (x * w).sum(axis=axis)"
   ]
  },
  {
   "cell_type": "code",
   "execution_count": 12,
   "metadata": {
    "collapsed": true
   },
   "outputs": [],
   "source": [
    "SoftMaxPool = Lambda(_keras_smp, output_shape=_keras_smp_shape)"
   ]
  },
  {
   "cell_type": "code",
   "execution_count": 13,
   "metadata": {
    "collapsed": true
   },
   "outputs": [],
   "source": [
    "x = np.random.randn(10, 5)"
   ]
  },
  {
   "cell_type": "code",
   "execution_count": 14,
   "metadata": {
    "collapsed": false
   },
   "outputs": [
    {
     "data": {
      "text/plain": [
       "array([[-0.43883716, -0.99593852, -1.00922389, -0.02993694, -0.59930385],\n",
       "       [ 0.08620084,  0.10199767, -0.33701471,  0.54612009,  2.19451448],\n",
       "       [ 0.91566838, -0.34808806, -1.39974601, -0.7126849 ,  0.51767488],\n",
       "       [ 2.38131497, -1.94506525,  0.05374397, -0.68452835, -0.82992932],\n",
       "       [-1.15572444,  0.44791267,  1.57010151, -0.33031556,  0.08427308],\n",
       "       [-0.27722465, -0.4196747 , -0.77073023,  0.3595472 ,  0.72007522],\n",
       "       [-0.24289576, -0.68263   ,  0.43795361,  0.42691328,  0.40979546],\n",
       "       [-1.12907955, -0.75063486,  0.04952153,  0.54253876,  0.68944537],\n",
       "       [-0.15829633, -1.14638162, -0.51998859, -0.56066538,  0.43501487],\n",
       "       [-0.89704661,  1.32197154, -0.33352295,  0.11153553, -1.03825087]])"
      ]
     },
     "execution_count": 14,
     "metadata": {},
     "output_type": "execute_result"
    }
   ],
   "source": [
    "x"
   ]
  },
  {
   "cell_type": "code",
   "execution_count": 15,
   "metadata": {
    "collapsed": false
   },
   "outputs": [],
   "source": [
    "y = smp(x, axis=-1)"
   ]
  },
  {
   "cell_type": "code",
   "execution_count": 17,
   "metadata": {
    "collapsed": false
   },
   "outputs": [
    {
     "data": {
      "text/plain": [
       "array([-0.47505555,  1.51367474,  0.39433429,  1.91663342,  0.91116797,\n",
       "        0.21472835,  0.24068545,  0.29497026, -0.11760838,  0.64767425])"
      ]
     },
     "execution_count": 17,
     "metadata": {},
     "output_type": "execute_result"
    }
   ],
   "source": [
    "y"
   ]
  },
  {
   "cell_type": "code",
   "execution_count": 20,
   "metadata": {
    "collapsed": false
   },
   "outputs": [],
   "source": [
    "model = Sequential()\n",
    "\n",
    "inputs = Input(shape=(10, 5))\n",
    "\n",
    "predictions = SoftMaxPool(inputs)\n",
    "\n",
    "model = Model(input=inputs, output=predictions)\n",
    "model.compile(optimizer='rmsprop', loss='binary_crossentropy')"
   ]
  },
  {
   "cell_type": "code",
   "execution_count": 21,
   "metadata": {
    "collapsed": false
   },
   "outputs": [
    {
     "data": {
      "text/plain": [
       "array([[-0.47505555,  1.51367474,  0.39433429,  1.91663337,  0.91116792,\n",
       "         0.21472836,  0.24068543,  0.29497027, -0.1176084 ,  0.64767414]])"
      ]
     },
     "execution_count": 21,
     "metadata": {},
     "output_type": "execute_result"
    }
   ],
   "source": [
    "model.predict(np.asarray([x]))"
   ]
  },
  {
   "cell_type": "code",
   "execution_count": 22,
   "metadata": {
    "collapsed": false
   },
   "outputs": [
    {
     "data": {
      "text/plain": [
       "array([-0.47505555,  1.51367474,  0.39433429,  1.91663342,  0.91116797,\n",
       "        0.21472835,  0.24068545,  0.29497026, -0.11760838,  0.64767425])"
      ]
     },
     "execution_count": 22,
     "metadata": {},
     "output_type": "execute_result"
    }
   ],
   "source": [
    "smp(x)"
   ]
  },
  {
   "cell_type": "code",
   "execution_count": 23,
   "metadata": {
    "collapsed": false
   },
   "outputs": [
    {
     "data": {
      "text/plain": [
       "array([-0.47505555,  1.51367474,  0.39433429,  1.91663342,  0.91116797,\n",
       "        0.21472835,  0.24068545,  0.29497026, -0.11760838,  0.64767425])"
      ]
     },
     "execution_count": 23,
     "metadata": {},
     "output_type": "execute_result"
    }
   ],
   "source": [
    "smp(10000000 + x) - 10000000"
   ]
  }
 ],
 "metadata": {
  "kernelspec": {
   "display_name": "Python 3.5",
   "language": "python",
   "name": "python3.5"
  },
  "language_info": {
   "codemirror_mode": {
    "name": "ipython",
    "version": 3
   },
   "file_extension": ".py",
   "mimetype": "text/x-python",
   "name": "python",
   "nbconvert_exporter": "python",
   "pygments_lexer": "ipython3",
   "version": "3.5.3"
  }
 },
 "nbformat": 4,
 "nbformat_minor": 1
}
