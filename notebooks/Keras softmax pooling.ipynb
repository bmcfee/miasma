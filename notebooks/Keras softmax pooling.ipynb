{
 "cells": [
  {
   "cell_type": "code",
   "execution_count": 1,
   "metadata": {
    "collapsed": false
   },
   "outputs": [
    {
     "name": "stderr",
     "output_type": "stream",
     "text": [
      "Using TensorFlow backend.\n"
     ]
    }
   ],
   "source": [
    "from keras import backend as K\n",
    "from keras.engine.topology import Layer\n",
    "from keras.layers import Lambda\n",
    "from keras.models import Sequential, Model\n",
    "from keras.layers import Dense, Dropout, Activation, Flatten, Input\n",
    "from keras.layers import Convolution2D, MaxPooling2D\n",
    "from keras.utils import np_utils"
   ]
  },
  {
   "cell_type": "code",
   "execution_count": 2,
   "metadata": {
    "collapsed": true
   },
   "outputs": [],
   "source": [
    "import numpy as np"
   ]
  },
  {
   "cell_type": "code",
   "execution_count": 42,
   "metadata": {
    "collapsed": true
   },
   "outputs": [],
   "source": [
    "class SoftMaxPool(Layer):\n",
    "    '''Apply soft-max pooling '''\n",
    "    def __init__(self, axis=-1, **kwargs):\n",
    "        \n",
    "        super(SoftMaxPool, self).__init__(**kwargs)\n",
    "        \n",
    "        self.axis = axis\n",
    "        \n",
    "    def get_output_shape_for(self, input_shape):\n",
    "        \n",
    "        shape = list(input_shape)\n",
    "        shape[self.axis] = 1\n",
    "        return tuple(shape)\n",
    "    \n",
    "    def call(self, x, mask=None):\n",
    "        \n",
    "        m = K.max(x, axis=self.axis, keepdims=True)\n",
    "        sm = K.exp(x - m)\n",
    "        w = sm / K.sum(sm, axis=self.axis, keepdims=True)\n",
    "        return K.sum(x * w, axis=self.axis, keepdims=True)\n",
    "    \n",
    "    def get_config(self):\n",
    "        config = {'axis': self.axis}\n",
    "        base_config = super(SoftMaxPool, self).get_config()\n",
    "        return dict(list(base_config.items()) + list(config.items()))"
   ]
  },
  {
   "cell_type": "code",
   "execution_count": 64,
   "metadata": {
    "collapsed": true
   },
   "outputs": [],
   "source": [
    "def _keras_smp(x):\n",
    "    m = K.max(x, axis=-1, keepdims=True)\n",
    "    sm = K.exp(x - m)\n",
    "    w = sm / K.sum(sm, axis=-1, keepdims=True)\n",
    "    return K.sum(x * w, axis=-1, keepdims=True)\n",
    "    \n",
    "def _keras_smp_shape(input_shape):\n",
    "    shape = list(input_shape)\n",
    "    shape[-1] = 1\n",
    "    return tuple(shape)"
   ]
  },
  {
   "cell_type": "code",
   "execution_count": 65,
   "metadata": {
    "collapsed": true
   },
   "outputs": [],
   "source": [
    "# Numpy implementation for reference\n",
    "def smp(x, axis=-1):\n",
    "    \n",
    "    m = x.max(axis=axis, keepdims=True)\n",
    "    sm = np.exp(x - m)   #exp(x - m) = exp(x) / exp(m)\n",
    "    w = sm / np.sum(sm, axis=axis, keepdims=True)\n",
    "    \n",
    "    return (x * w).sum(axis=axis, keepdims=True)"
   ]
  },
  {
   "cell_type": "code",
   "execution_count": 66,
   "metadata": {
    "collapsed": true
   },
   "outputs": [],
   "source": [
    "LSoftMaxPool = Lambda(_keras_smp, output_shape=_keras_smp_shape)"
   ]
  },
  {
   "cell_type": "code",
   "execution_count": 67,
   "metadata": {
    "collapsed": true
   },
   "outputs": [],
   "source": [
    "x = np.random.randn(10, 5)"
   ]
  },
  {
   "cell_type": "code",
   "execution_count": 68,
   "metadata": {
    "collapsed": false
   },
   "outputs": [
    {
     "data": {
      "text/plain": [
       "array([[ 1.15473962, -1.11731115,  0.41548108, -1.78850882, -1.13391072],\n",
       "       [ 0.13043004, -0.33131481,  0.27255506,  1.11169833, -0.71478944],\n",
       "       [-0.74502153, -0.08293015,  0.10975802,  0.50268116, -1.49282068],\n",
       "       [ 0.75382782,  1.42877109,  0.80678389,  0.79888669, -0.77715123],\n",
       "       [-0.93036336, -1.78314324, -0.81846917, -0.04201394,  1.1983932 ],\n",
       "       [-0.68162087, -1.03825424,  0.8065906 , -1.74972556, -0.62325689],\n",
       "       [ 0.63785869,  0.15823746,  0.26292411, -1.52545145, -1.59493191],\n",
       "       [-1.19780559,  0.43175324, -0.65264047,  2.1262413 , -0.9754042 ],\n",
       "       [-1.00404137, -0.01230852,  0.40263937,  0.17507494,  0.55413324],\n",
       "       [-0.40114422,  0.98943446, -0.69655683,  0.47005621, -1.16881525]])"
      ]
     },
     "execution_count": 68,
     "metadata": {},
     "output_type": "execute_result"
    }
   ],
   "source": [
    "x"
   ]
  },
  {
   "cell_type": "code",
   "execution_count": 69,
   "metadata": {
    "collapsed": false
   },
   "outputs": [],
   "source": [
    "y = smp(x**2, axis=-1)"
   ]
  },
  {
   "cell_type": "code",
   "execution_count": 70,
   "metadata": {
    "collapsed": false
   },
   "outputs": [
    {
     "data": {
      "text/plain": [
       "array([[ 2.53212754],\n",
       "       [ 0.640086  ],\n",
       "       [ 1.53513054],\n",
       "       [ 1.34285324],\n",
       "       [ 2.55659086],\n",
       "       [ 2.42890102],\n",
       "       [ 2.14244243],\n",
       "       [ 4.18876931],\n",
       "       [ 0.46563264],\n",
       "       [ 0.86693713]])"
      ]
     },
     "execution_count": 70,
     "metadata": {},
     "output_type": "execute_result"
    }
   ],
   "source": [
    "y"
   ]
  },
  {
   "cell_type": "code",
   "execution_count": 71,
   "metadata": {
    "collapsed": false
   },
   "outputs": [],
   "source": [
    "model = Sequential()\n",
    "\n",
    "inputs = Input(shape=(10, 5))\n",
    "\n",
    "lpredictions = LSoftMaxPool(inputs)\n",
    "predictions = SoftMaxPool(axis=-1)(inputs)\n",
    "\n",
    "model = Model(input=inputs, output=[lpredictions, predictions])\n",
    "model.compile(optimizer='rmsprop', loss='binary_crossentropy')"
   ]
  },
  {
   "cell_type": "code",
   "execution_count": 72,
   "metadata": {
    "collapsed": false
   },
   "outputs": [
    {
     "data": {
      "text/plain": [
       "[array([[[ 2.53212786],\n",
       "         [ 0.64008605],\n",
       "         [ 1.5351305 ],\n",
       "         [ 1.34285331],\n",
       "         [ 2.5565908 ],\n",
       "         [ 2.42890072],\n",
       "         [ 2.14244223],\n",
       "         [ 4.18876934],\n",
       "         [ 0.46563268],\n",
       "         [ 0.8669371 ]]], dtype=float32), array([[[ 2.53212786],\n",
       "         [ 0.64008605],\n",
       "         [ 1.5351305 ],\n",
       "         [ 1.34285331],\n",
       "         [ 2.5565908 ],\n",
       "         [ 2.42890072],\n",
       "         [ 2.14244223],\n",
       "         [ 4.18876934],\n",
       "         [ 0.46563268],\n",
       "         [ 0.8669371 ]]], dtype=float32)]"
      ]
     },
     "execution_count": 72,
     "metadata": {},
     "output_type": "execute_result"
    }
   ],
   "source": [
    "model.predict(np.asarray([x])**2)"
   ]
  },
  {
   "cell_type": "code",
   "execution_count": 73,
   "metadata": {
    "collapsed": false
   },
   "outputs": [
    {
     "data": {
      "text/plain": [
       "array([[ 2.53212754],\n",
       "       [ 0.640086  ],\n",
       "       [ 1.53513054],\n",
       "       [ 1.34285324],\n",
       "       [ 2.55659086],\n",
       "       [ 2.42890102],\n",
       "       [ 2.14244243],\n",
       "       [ 4.18876931],\n",
       "       [ 0.46563264],\n",
       "       [ 0.86693713]])"
      ]
     },
     "execution_count": 73,
     "metadata": {},
     "output_type": "execute_result"
    }
   ],
   "source": [
    "smp(x**2)"
   ]
  },
  {
   "cell_type": "code",
   "execution_count": 74,
   "metadata": {
    "collapsed": false
   },
   "outputs": [
    {
     "data": {
      "text/plain": [
       "array([[ 0.59302298],\n",
       "       [ 0.49227469],\n",
       "       [ 0.04283264],\n",
       "       [ 0.96162534],\n",
       "       [ 0.55035915],\n",
       "       [ 0.1197499 ],\n",
       "       [ 0.2254924 ],\n",
       "       [ 1.56620865],\n",
       "       [ 0.24131747],\n",
       "       [ 0.422051  ]])"
      ]
     },
     "execution_count": 74,
     "metadata": {},
     "output_type": "execute_result"
    }
   ],
   "source": [
    "smp(10000000 + x) - 10000000"
   ]
  },
  {
   "cell_type": "code",
   "execution_count": null,
   "metadata": {
    "collapsed": true
   },
   "outputs": [],
   "source": []
  },
  {
   "cell_type": "code",
   "execution_count": null,
   "metadata": {
    "collapsed": true
   },
   "outputs": [],
   "source": []
  }
 ],
 "metadata": {
  "kernelspec": {
   "display_name": "Python 3.5",
   "language": "python",
   "name": "python3.5"
  },
  "language_info": {
   "codemirror_mode": {
    "name": "ipython",
    "version": 3
   },
   "file_extension": ".py",
   "mimetype": "text/x-python",
   "name": "python",
   "nbconvert_exporter": "python",
   "pygments_lexer": "ipython3",
   "version": "3.5.3"
  }
 },
 "nbformat": 4,
 "nbformat_minor": 1
}
