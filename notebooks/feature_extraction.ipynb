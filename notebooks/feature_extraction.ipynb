{
 "cells": [
  {
   "cell_type": "code",
   "execution_count": 1,
   "metadata": {
    "collapsed": false,
    "deletable": true,
    "editable": true
   },
   "outputs": [
    {
     "name": "stderr",
     "output_type": "stream",
     "text": [
      "/home/js7561/dev/miniconda3/envs/py35hpc/lib/python3.5/site-packages/IPython/html.py:14: ShimWarning: The `IPython.html` package has been deprecated. You should import from `notebook` instead. `IPython.html.widgets` has moved to `ipywidgets`.\n",
      "  \"`IPython.html.widgets` has moved to `ipywidgets`.\", ShimWarning)\n"
     ]
    },
    {
     "name": "stdout",
     "output_type": "stream",
     "text": [
      "0.5.0dev\n"
     ]
    },
    {
     "name": "stderr",
     "output_type": "stream",
     "text": [
      "/home/js7561/dev/miniconda3/envs/py35hpc/lib/python3.5/site-packages/sklearn/cross_validation.py:44: DeprecationWarning: This module was deprecated in version 0.18 in favor of the model_selection module into which all the refactored classes and functions are moved. Also note that the interface of the new CV iterators are different from that of this module. This module will be removed in 0.20.\n",
      "  \"This module will be removed in 0.20.\", DeprecationWarning)\n"
     ]
    }
   ],
   "source": [
    "%matplotlib inline\n",
    "import matplotlib.pyplot as plt\n",
    "import seaborn as sns\n",
    "import librosa\n",
    "import os\n",
    "import gzip\n",
    "import numpy as np\n",
    "from subprocess import call\n",
    "\n",
    "from __future__ import division\n",
    "import medleydb as mdb\n",
    "import numpy as np\n",
    "import scipy\n",
    "from scipy import interpolate\n",
    "import sox\n",
    "print(librosa.__version__)"
   ]
  },
  {
   "cell_type": "code",
   "execution_count": 2,
   "metadata": {
    "collapsed": true,
    "deletable": true,
    "editable": true
   },
   "outputs": [],
   "source": [
    "vocalSet = set(['female singer', 'male rapper', 'male singer', 'male speaker', 'vocalists'])"
   ]
  },
  {
   "cell_type": "code",
   "execution_count": 3,
   "metadata": {
    "collapsed": true,
    "deletable": true,
    "editable": true
   },
   "outputs": [],
   "source": [
    "# CQT Parameters\n",
    "\n",
    "params_CQT = {\n",
    "    'sr':44100, \n",
    "    'hop_length':1024, \n",
    "    'fmin':None, #Minimum frequency. Defaults to C1 ~= 32.70 Hz\n",
    "    'n_bins':288, \n",
    "    'bins_per_octave':36, \n",
    "    'tuning':None, #Tuning offset in fractions of a bin (cents).\n",
    "    'filter_scale':1, #Filter scale factor. Small values (<1) use shorter windows for improved time resolution.\n",
    "    'norm':1, #Type of norm to use for basis function normalization.\n",
    "    'sparsity':0.01, #Sparsify the CQT basis by discarding up to sparsity fraction of the energy in each basis.\n",
    "    }"
   ]
  },
  {
   "cell_type": "code",
   "execution_count": 4,
   "metadata": {
    "collapsed": false,
    "deletable": true,
    "editable": true
   },
   "outputs": [
    {
     "data": {
      "text/plain": [
       "'/scratch/js7561/datasets/MedleyDB/Audio'"
      ]
     },
     "execution_count": 4,
     "metadata": {},
     "output_type": "execute_result"
    }
   ],
   "source": [
    "mdb.AUDIO_PATH"
   ]
  },
  {
   "cell_type": "code",
   "execution_count": 54,
   "metadata": {
    "collapsed": false,
    "deletable": true,
    "editable": true,
    "scrolled": false
   },
   "outputs": [
    {
     "name": "stdout",
     "output_type": "stream",
     "text": [
      "0 MusicDelta_FreeJazz\n",
      "1 TablaBreakbeatScience_CaptainSky\n",
      "2 TablaBreakbeatScience_PhaseTransition\n",
      "3 MusicDelta_GriegTrolltog\n",
      "4 CroqueMadame_Oil\n",
      "5 TablaBreakbeatScience_RockSteady\n",
      "6 KarimDouaidy_Yatora\n",
      "7 TheDistricts_Vermont\n",
      "8 MusicDelta_Vivaldi\n",
      "9 MusicDelta_Rockabilly\n",
      "10 AlexanderRoss_VelvetCurtain\n",
      "11 HopAlong_SisterCities\n",
      "12 ClaraBerryAndWooldog_WaltzForMyVictims\n",
      "13 MusicDelta_Country2\n",
      "14 MusicDelta_Rock\n",
      "15 MusicDelta_Beethoven\n",
      "16 MusicDelta_ModalJazz\n",
      "17 AvaLuna_Waterduct\n",
      "18 MusicDelta_Zeppelin\n",
      "19 MusicDelta_SpeedMetal\n",
      "20 MusicDelta_InTheHalloftheMountainKing\n",
      "21 Wolf_DieBekherte\n",
      "22 MusicDelta_ChineseChaoZhou\n",
      "23 Phoenix_ColliersDaughter\n",
      "24 ChrisJacoby_PigsFoot\n",
      "25 MatthewEntwistle_FairerHopes\n",
      "26 TablaBreakbeatScience_Animoog\n",
      "27 Phoenix_ElzicsFarewell\n",
      "28 MatthewEntwistle_TheArch\n",
      "29 KarimDouaidy_Hopscotch\n",
      "30 LizNelson_Coldwar\n",
      "31 MusicDelta_Hendrix\n",
      "32 MusicDelta_Country1\n",
      "33 AmarLal_SpringDay1\n",
      "34 MusicDelta_Beatles\n",
      "35 Mozart_DiesBildnis\n",
      "36 ChrisJacoby_BoothShotLincoln\n",
      "37 MatthewEntwistle_AnEveningWithOliver\n",
      "38 Phoenix_SeanCaughlinsTheScartaglen\n",
      "39 AmarLal_Rest\n",
      "40 InvisibleFamiliars_DisturbingWildlife\n",
      "41 MusicDelta_FunkJazz\n",
      "42 TablaBreakbeatScience_MoodyPlucks\n",
      "43 MatthewEntwistle_DontYouEver\n",
      "44 Phoenix_BrokenPledgeChicagoReel\n",
      "45 MusicDelta_SwingJazz\n",
      "46 TablaBreakbeatScience_WhoIsIt\n",
      "47 NightPanther_Fire\n",
      "48 ClaraBerryAndWooldog_TheBadGuys\n",
      "49 MusicDelta_Punk\n",
      "50 PurlingHiss_Lolita\n",
      "51 HezekiahJones_BorrowedHeart\n",
      "52 MusicDelta_Britpop\n",
      "53 Creepoid_OldTree\n",
      "54 TablaBreakbeatScience_MiloVsMongo\n",
      "55 TheSoSoGlos_Emergency\n",
      "56 ClaraBerryAndWooldog_Boys\n",
      "57 Debussy_LenfantProdigue\n",
      "58 AimeeNorwich_Flying\n",
      "59 TheScarletBrand_LesFleursDuMal\n",
      "60 MusicDelta_ChineseHenan\n",
      "61 MusicDelta_Grunge\n",
      "62 JoelHelander_ExcessiveResistancetoChange\n",
      "63 MusicDelta_Reggae\n",
      "64 AimeeNorwich_Child\n",
      "65 Phoenix_ScotchMorris\n",
      "66 EthanHein_1930sSynthAndUprightBass\n",
      "67 MusicDelta_ChineseXinJing\n",
      "68 Phoenix_LarkOnTheStrandDrummondCastle\n",
      "69 StevenClark_Bounty\n",
      "70 EthanHein_HarmonicaFigure\n",
      "71 AClassicEducation_NightOwl\n",
      "72 MusicDelta_ChineseDrama\n",
      "73 MatthewEntwistle_Lontano\n",
      "74 Handel_TornamiAVagheggiar\n",
      "75 MusicDelta_Shadows\n",
      "76 EthanHein_GirlOnABridge\n",
      "77 MusicDelta_ChineseYaoZu\n",
      "78 MusicDelta_80sRock\n",
      "79 HeladoNegro_MitadDelMundo\n",
      "80 Lushlife_ToynbeeSuite\n",
      "81 MusicDelta_Disco\n",
      "82 Schumann_Mignon\n",
      "83 ClaraBerryAndWooldog_AirTraffic\n",
      "84 Mozart_BesterJungling\n",
      "85 SweetLights_YouLetMeDown\n",
      "86 StrandOfOaks_Spacestation\n",
      "87 MatthewEntwistle_TheFlaxenField\n",
      "88 Grants_PunchDrunk\n",
      "89 JoelHelander_Definition\n",
      "90 BigTroubles_Phantom\n",
      "91 ClaraBerryAndWooldog_Stella\n",
      "92 DreamersOfTheGhetto_HeavyLove\n",
      "93 MichaelKropf_AllGoodThings\n",
      "94 Snowmine_Curfews\n",
      "95 CroqueMadame_Pilot\n",
      "96 JoelHelander_IntheAtticBedroom\n",
      "97 EthanHein_BluesForNofi\n",
      "98 MusicDelta_CoolJazz\n",
      "99 Meaxic_YouListen\n",
      "100 Schubert_Erstarrung\n",
      "101 FacesOnFilm_WaitingForGa\n",
      "102 SecretMountains_HighHorse\n",
      "103 MatthewEntwistle_ImpressionsOfSaturn\n",
      "104 MusicDelta_LatinJazz\n",
      "105 TablaBreakbeatScience_Vger\n",
      "106 BrandonWebster_YesSirICanFly\n",
      "107 CelestialShore_DieForUs\n",
      "108 BrandonWebster_DontHearAThing\n",
      "109 FamilyBand_Again\n",
      "110 MusicDelta_FusionJazz\n",
      "111 PortStWillow_StayEven\n",
      "112 Meaxic_TakeAStep\n",
      "113 MusicDelta_Pachelbel\n",
      "114 MusicDelta_ChineseJiangNan\n",
      "115 MusicDelta_Gospel\n",
      "116 TablaBreakbeatScience_Scorpio\n",
      "117 AlexanderRoss_GoodbyeBolero\n",
      "118 MusicDelta_BebopJazz\n",
      "119 LizNelson_Rainfall\n",
      "120 Auctioneer_OurFutureFaces\n",
      "121 LizNelson_ImComingHome\n"
     ]
    }
   ],
   "source": [
    "# parameters\n",
    "output_folder = '/scratch/js7561/datasets/MedleyDB_output/original/features/'\n",
    "\n",
    "# multitrack generator\n",
    "trackList = os.listdir(mdb.AUDIO_PATH)\n",
    "mtrack_generator = mdb.load_multitracks(trackList)\n",
    "\n",
    "counter = 0\n",
    "for track in mtrack_generator:\n",
    "    \n",
    "    # printout\n",
    "    print(counter, track.track_id)\n",
    "    \n",
    "    # avoid repeated computation\n",
    "    cqtfolder = 'cqt{:d}_{:d}_{:d}_{:d}'.format(\n",
    "        params_CQT['sr'], params_CQT['hop_length'], \n",
    "        params_CQT['n_bins']//params_CQT['bins_per_octave'],\n",
    "        params_CQT['bins_per_octave'])\n",
    "    cqtfilename = '{:s}_cqt.npy.gz'.format(track.track_id)\n",
    "    cqtfullpath = os.path.join(output_folder, cqtfolder, cqtfilename)\n",
    "    \n",
    "    actfolder = 'vocal_activation{:d}_{:d}'.format(params_CQT['sr'], params_CQT['hop_length'])\n",
    "    actfilename = '{:s}_vocalactivation.npy.gz'.format(track.track_id)\n",
    "    actfullpath = os.path.join(output_folder, actfolder, actfilename)\n",
    "    \n",
    "    if not (os.path.isfile(cqtfullpath) and os.path.isfile(actfullpath)):\n",
    "    \n",
    "        # load audio\n",
    "        x, sr = librosa.load(track.mix_path, sr=params_CQT['sr'])\n",
    "\n",
    "        # compute and save log-CQT\n",
    "        logcqt = librosa.logamplitude(np.abs(librosa.cqt(y=x, **params_CQT)))\n",
    "        np.save(gzip.open(cqtfullpath, 'wb'), logcqt)\n",
    "\n",
    "        # compute vocal activation curve\n",
    "        vocalIdx = [idx for idx, inst in enumerate(track.stem_instruments) if inst in vocalSet]\n",
    "\n",
    "        try:\n",
    "            if len(vocalIdx) != 0:\n",
    "                stem_activations = np.array(track.stem_activations)[:,1:]\n",
    "                time = np.array(track.stem_activations)[:,0]\n",
    "                vocal_activation = np.max(stem_activations[:,vocalIdx],1)\n",
    "\n",
    "                # interpolation function for vocal activation curve\n",
    "                # some issue with end point(off by a few ms) so fill with last value\n",
    "                f = interpolate.interp1d(time, vocal_activation, kind='linear',\n",
    "                                         bounds_error=False, fill_value=vocal_activation[-1])\n",
    "\n",
    "                # vocal activation lables per frame\n",
    "                specLabel = [f(i * params_CQT['hop_length'] / params_CQT['sr']) for i in range(logcqt.shape[1])]\n",
    "                specLabel = np.array(specLabel)\n",
    "            else:\n",
    "                specLabel = np.zeros(logcqt.shape[1])\n",
    "\n",
    "            # save label\n",
    "            np.save(gzip.open(actfullpath, 'wb'), specLabel)\n",
    "        except IndexError:\n",
    "            print('MISSING ACTIVATION: {:s}'.format(track.track_id))\n",
    "\n",
    "    counter += 1"
   ]
  },
  {
   "cell_type": "code",
   "execution_count": null,
   "metadata": {
    "collapsed": true,
    "deletable": true,
    "editable": true
   },
   "outputs": [],
   "source": []
  }
 ],
 "metadata": {
  "kernelspec": {
   "display_name": "Python [conda env:py35hpc]",
   "language": "python",
   "name": "conda-env-py35hpc-py"
  },
  "language_info": {
   "codemirror_mode": {
    "name": "ipython",
    "version": 3
   },
   "file_extension": ".py",
   "mimetype": "text/x-python",
   "name": "python",
   "nbconvert_exporter": "python",
   "pygments_lexer": "ipython3",
   "version": "3.5.2"
  }
 },
 "nbformat": 4,
 "nbformat_minor": 0
}
