{
 "cells": [
  {
   "cell_type": "code",
   "execution_count": 1,
   "metadata": {
    "collapsed": false,
    "deletable": true,
    "editable": true
   },
   "outputs": [
    {
     "name": "stdout",
     "output_type": "stream",
     "text": [
      "jams version: 0.2.2\n",
      "muda version: 0.1.2\n",
      "numpy version: 1.12.0\n",
      "librosa version: 0.5.0dev\n",
      "medleydb version: 1.2.7\n"
     ]
    },
    {
     "name": "stderr",
     "output_type": "stream",
     "text": [
      "/home/js7561/dev/miniconda3/envs/py35hpcT9b/lib/python3.5/site-packages/sklearn/cross_validation.py:44: DeprecationWarning: This module was deprecated in version 0.18 in favor of the model_selection module into which all the refactored classes and functions are moved. Also note that the interface of the new CV iterators are different from that of this module. This module will be removed in 0.20.\n",
      "  \"This module will be removed in 0.20.\", DeprecationWarning)\n"
     ]
    }
   ],
   "source": [
    "import jams\n",
    "import muda\n",
    "import numpy as np\n",
    "import os\n",
    "import gzip\n",
    "import librosa\n",
    "import medleydb as mdb\n",
    "print('jams version: {:s}'.format(jams.__version__))\n",
    "print('muda version: {:s}'.format(muda.__version__))\n",
    "print('numpy version: {:s}'.format(np.__version__))\n",
    "print('librosa version: {:s}'.format(librosa.__version__))\n",
    "print('medleydb version: {:s}'.format(mdb.__version__))"
   ]
  },
  {
   "cell_type": "markdown",
   "metadata": {
    "deletable": true,
    "editable": true
   },
   "source": [
    "## Create JAMS files for the original data"
   ]
  },
  {
   "cell_type": "code",
   "execution_count": 2,
   "metadata": {
    "collapsed": true,
    "deletable": true,
    "editable": true
   },
   "outputs": [],
   "source": [
    "def create_mdb_jam(mt):\n",
    "    \n",
    "    # Create jam\n",
    "    jam = jams.JAMS()\n",
    "    \n",
    "    # Create annotation\n",
    "    ann = jams.Annotation('tag_open')\n",
    "    ann.duration = mt.duration\n",
    "    \n",
    "    # Add tag with snippet sound class\n",
    "    ann.append(time=0, duration=mt.duration, value=mt.genre, confidence=1)\n",
    "    \n",
    "    # Fill file metadata\n",
    "    jam.file_metadata.title = mt.title\n",
    "    jam.file_metadata.release = '1.0'\n",
    "    jam.file_metadata.duration = mt.duration\n",
    "    jam.file_metadata.artist = mt.artist\n",
    "    \n",
    "    # Fill annotation metadata\n",
    "    ann.annotation_metadata.version = '1.0'\n",
    "    ann.annotation_metadata.corpus = 'MedleyDB'\n",
    "    ann.annotation_metadata.data_source = 'http://medleydb.weebly.com/'\n",
    "    \n",
    "    # Store all metadata in sandbox too\n",
    "    \n",
    "    # Add annotation to jam\n",
    "    jam.annotations.append(ann)\n",
    "    \n",
    "    # Return jam\n",
    "    return jam"
   ]
  },
  {
   "cell_type": "code",
   "execution_count": 3,
   "metadata": {
    "collapsed": true,
    "deletable": true,
    "editable": true
   },
   "outputs": [],
   "source": [
    "jamsfolder = '/scratch/js7561/datasets/MedleyDB_output/original/jams/'"
   ]
  },
  {
   "cell_type": "code",
   "execution_count": 4,
   "metadata": {
    "collapsed": false,
    "deletable": true,
    "editable": true
   },
   "outputs": [
    {
     "name": "stdout",
     "output_type": "stream",
     "text": [
      "0 AClassicEducation_NightOwl\n",
      "1 AimeeNorwich_Child\n",
      "2 AimeeNorwich_Flying\n",
      "3 AlexanderRoss_GoodbyeBolero\n",
      "4 AlexanderRoss_VelvetCurtain\n",
      "5 AmarLal_Rest\n",
      "6 AmarLal_SpringDay1\n",
      "7 Auctioneer_OurFutureFaces\n",
      "8 AvaLuna_Waterduct\n",
      "9 BigTroubles_Phantom\n",
      "10 BrandonWebster_DontHearAThing\n",
      "11 BrandonWebster_YesSirICanFly\n",
      "12 CelestialShore_DieForUs\n",
      "13 ChrisJacoby_BoothShotLincoln\n",
      "14 ChrisJacoby_PigsFoot\n",
      "15 ClaraBerryAndWooldog_AirTraffic\n",
      "16 ClaraBerryAndWooldog_Boys\n",
      "17 ClaraBerryAndWooldog_Stella\n",
      "18 ClaraBerryAndWooldog_TheBadGuys\n",
      "19 ClaraBerryAndWooldog_WaltzForMyVictims\n",
      "20 Creepoid_OldTree\n",
      "21 CroqueMadame_Oil\n",
      "22 CroqueMadame_Pilot\n",
      "23 Debussy_LenfantProdigue\n",
      "24 DreamersOfTheGhetto_HeavyLove\n",
      "25 EthanHein_1930sSynthAndUprightBass\n",
      "26 EthanHein_BluesForNofi\n",
      "27 EthanHein_GirlOnABridge\n",
      "28 EthanHein_HarmonicaFigure\n",
      "29 FacesOnFilm_WaitingForGa\n",
      "30 FamilyBand_Again\n",
      "31 Grants_PunchDrunk\n",
      "32 Handel_TornamiAVagheggiar\n",
      "33 HeladoNegro_MitadDelMundo\n",
      "34 HezekiahJones_BorrowedHeart\n",
      "35 HopAlong_SisterCities\n",
      "36 InvisibleFamiliars_DisturbingWildlife\n",
      "37 JoelHelander_Definition\n",
      "38 JoelHelander_ExcessiveResistancetoChange\n",
      "39 JoelHelander_IntheAtticBedroom\n",
      "40 KarimDouaidy_Hopscotch\n",
      "41 KarimDouaidy_Yatora\n",
      "42 LizNelson_Coldwar\n",
      "43 LizNelson_ImComingHome\n",
      "44 LizNelson_Rainfall\n",
      "45 Lushlife_ToynbeeSuite\n",
      "46 MatthewEntwistle_AnEveningWithOliver\n",
      "47 MatthewEntwistle_DontYouEver\n",
      "48 MatthewEntwistle_FairerHopes\n",
      "49 MatthewEntwistle_ImpressionsOfSaturn\n",
      "50 MatthewEntwistle_Lontano\n",
      "51 MatthewEntwistle_TheArch\n",
      "52 MatthewEntwistle_TheFlaxenField\n",
      "53 Meaxic_TakeAStep\n",
      "54 Meaxic_YouListen\n",
      "55 MichaelKropf_AllGoodThings\n",
      "56 Mozart_BesterJungling\n",
      "57 Mozart_DiesBildnis\n",
      "58 MusicDelta_80sRock\n",
      "59 MusicDelta_Beatles\n",
      "60 MusicDelta_BebopJazz\n",
      "61 MusicDelta_Beethoven\n",
      "62 MusicDelta_Britpop\n",
      "63 MusicDelta_ChineseChaoZhou\n",
      "64 MusicDelta_ChineseDrama\n",
      "65 MusicDelta_ChineseHenan\n",
      "66 MusicDelta_ChineseJiangNan\n",
      "67 MusicDelta_ChineseXinJing\n",
      "68 MusicDelta_ChineseYaoZu\n",
      "69 MusicDelta_CoolJazz\n",
      "70 MusicDelta_Country1\n",
      "71 MusicDelta_Country2\n",
      "72 MusicDelta_Disco\n",
      "73 MusicDelta_FreeJazz\n",
      "74 MusicDelta_FunkJazz\n",
      "75 MusicDelta_FusionJazz\n",
      "76 MusicDelta_Gospel\n",
      "77 MusicDelta_GriegTrolltog\n",
      "78 MusicDelta_Grunge\n",
      "79 MusicDelta_Hendrix\n",
      "80 MusicDelta_InTheHalloftheMountainKing\n",
      "81 MusicDelta_LatinJazz\n",
      "82 MusicDelta_ModalJazz\n",
      "83 MusicDelta_Pachelbel\n",
      "84 MusicDelta_Punk\n",
      "85 MusicDelta_Reggae\n",
      "86 MusicDelta_Rock\n",
      "87 MusicDelta_Rockabilly\n",
      "88 MusicDelta_Shadows\n",
      "89 MusicDelta_SpeedMetal\n",
      "90 MusicDelta_SwingJazz\n",
      "91 MusicDelta_Vivaldi\n",
      "92 MusicDelta_Zeppelin\n",
      "93 NightPanther_Fire\n",
      "94 Phoenix_BrokenPledgeChicagoReel\n",
      "95 Phoenix_ColliersDaughter\n",
      "96 Phoenix_ElzicsFarewell\n",
      "97 Phoenix_LarkOnTheStrandDrummondCastle\n",
      "98 Phoenix_ScotchMorris\n",
      "99 Phoenix_SeanCaughlinsTheScartaglen\n",
      "100 PortStWillow_StayEven\n",
      "101 PurlingHiss_Lolita\n",
      "102 Schubert_Erstarrung\n",
      "103 Schumann_Mignon\n",
      "104 SecretMountains_HighHorse\n",
      "105 Snowmine_Curfews\n",
      "106 StevenClark_Bounty\n",
      "107 StrandOfOaks_Spacestation\n",
      "108 SweetLights_YouLetMeDown\n",
      "109 TablaBreakbeatScience_Animoog\n",
      "110 TablaBreakbeatScience_CaptainSky\n",
      "111 TablaBreakbeatScience_MiloVsMongo\n",
      "112 TablaBreakbeatScience_MoodyPlucks\n",
      "113 TablaBreakbeatScience_PhaseTransition\n",
      "114 TablaBreakbeatScience_RockSteady\n",
      "115 TablaBreakbeatScience_Scorpio\n",
      "116 TablaBreakbeatScience_Vger\n",
      "117 TablaBreakbeatScience_WhoIsIt\n",
      "118 TheDistricts_Vermont\n",
      "119 TheScarletBrand_LesFleursDuMal\n",
      "120 TheSoSoGlos_Emergency\n",
      "121 Wolf_DieBekherte\n"
     ]
    }
   ],
   "source": [
    "mtracks = mdb.load_all_multitracks()\n",
    "\n",
    "for n, mt in enumerate(mtracks):\n",
    "    print(n, mt.track_id)\n",
    "    jam = create_mdb_jam(mt)\n",
    "    jamfile = os.path.join(jamsfolder, '{:s}.jams'.format(mt.track_id))\n",
    "    jam.save(jamfile)"
   ]
  },
  {
   "cell_type": "markdown",
   "metadata": {
    "deletable": true,
    "editable": true
   },
   "source": [
    "## Setup deformers"
   ]
  },
  {
   "cell_type": "code",
   "execution_count": 4,
   "metadata": {
    "collapsed": false,
    "deletable": true,
    "editable": true
   },
   "outputs": [],
   "source": [
    "# PITCH1\n",
    "pitch_shifts1 = [-2, -1, 1, 2]\n",
    "pitch1 = muda.deformers.PitchShift()\n",
    "\n",
    "# PITCH2\n",
    "pitch_shifts2 = [-4, -3, 3, 4]\n",
    "pitch2 = muda.deformers.PitchShift()\n",
    "\n",
    "# DRC (compression)\n",
    "drc_presets1 = ['radio', 'film standard', 'music standard', 'speech']\n",
    "drc1 = muda.deformers.DynamicRangeCompression(preset=drc_presets1)\n",
    "\n",
    "# TIME STRETCH\n",
    "stretch1 = muda.deformers.LogspaceTimeStretch(n_samples=4, lower=-0.3, upper=0.3)\n",
    "\n",
    "deformers = {'pitch1': pitch1, 'pitch2': pitch2, 'drc1': drc1, 'stretch1': stretch1}\n",
    "deformer_params = {'pitch1': pitch_shifts1, 'pitch2': pitch_shifts2, 'drc1': None, 'stretch1': None}"
   ]
  },
  {
   "cell_type": "markdown",
   "metadata": {
    "deletable": true,
    "editable": true
   },
   "source": [
    "## Deformation utility function"
   ]
  },
  {
   "cell_type": "code",
   "execution_count": 7,
   "metadata": {
    "collapsed": true,
    "deletable": true,
    "editable": true
   },
   "outputs": [],
   "source": [
    "# pitch deformation function\n",
    "def apply_deformer(track_id, audiofile, jamsfile, outputfolder, deformer=None, pitch_shifts=None, \n",
    "                   dname=None, sr=44100):\n",
    "    \n",
    "    # Create folders\n",
    "    deformerfolder = os.path.join(outputfolder, dname)\n",
    "    if not os.path.isdir(deformerfolder):\n",
    "        os.mkdir(deformerfolder)\n",
    "    \n",
    "    audiofolder = os.path.join(deformerfolder, 'audio')\n",
    "    if not os.path.isdir(audiofolder):\n",
    "        os.mkdir(audiofolder)\n",
    "\n",
    "    jamsfolder = os.path.join(deformerfolder, 'jams')\n",
    "    if not os.path.isdir(jamsfolder):\n",
    "        os.mkdir(jamsfolder)\n",
    "        \n",
    "    jorig = muda.load_jam_audio(jamsfile, audiofile, sr=sr)\n",
    "\n",
    "    # Perform deformations\n",
    "    if pitch_shifts is not None:\n",
    "        for n, shift in enumerate(pitch_shifts):\n",
    "            deformer.n_semitones = shift\n",
    "            for j in deformer.transform(jorig):\n",
    "                aug_audiofile = os.path.join(audiofolder, '{:s}_{:s}_{:d}.wav'.format(track_id, dname, n))\n",
    "                aug_jamsfile = os.path.join(jamsfolder, '{:s}_{:s}_{:d}.jams'.format(track_id, dname, n))\n",
    "                muda.save(aug_audiofile, aug_jamsfile, j)\n",
    "    else:        \n",
    "        # All other deformers\n",
    "        for n, j in enumerate(deformer.transform(jorig)):\n",
    "            aug_audiofile = os.path.join(audiofolder, '{:s}_{:s}_{:d}.wav'.format(track_id, dname, n))\n",
    "            aug_jamsfile = os.path.join(jamsfolder, '{:s}_{:s}_{:d}.jams'.format(track_id, dname, n))\n",
    "            muda.save(aug_audiofile, aug_jamsfile, j)"
   ]
  },
  {
   "cell_type": "markdown",
   "metadata": {
    "deletable": true,
    "editable": true
   },
   "source": [
    "## Perform all deformations"
   ]
  },
  {
   "cell_type": "code",
   "execution_count": null,
   "metadata": {
    "collapsed": false,
    "deletable": true,
    "editable": true,
    "scrolled": false
   },
   "outputs": [
    {
     "name": "stdout",
     "output_type": "stream",
     "text": [
      "0 AClassicEducation_NightOwl\n"
     ]
    },
    {
     "name": "stderr",
     "output_type": "stream",
     "text": [
      "/home/js7561/dev/librosa/librosa/core/pitch.py:157: DeprecationWarning: object of type <class 'numpy.float64'> cannot be safely interpreted as an integer.\n",
      "  bins = np.linspace(-0.5, 0.5, np.ceil(1./resolution), endpoint=False)\n",
      "/home/js7561/dev/librosa/librosa/core/pitch.py:157: DeprecationWarning: object of type <class 'numpy.float64'> cannot be safely interpreted as an integer.\n",
      "  bins = np.linspace(-0.5, 0.5, np.ceil(1./resolution), endpoint=False)\n",
      "/home/js7561/dev/librosa/librosa/core/pitch.py:157: DeprecationWarning: object of type <class 'numpy.float64'> cannot be safely interpreted as an integer.\n",
      "  bins = np.linspace(-0.5, 0.5, np.ceil(1./resolution), endpoint=False)\n",
      "/home/js7561/dev/librosa/librosa/core/pitch.py:157: DeprecationWarning: object of type <class 'numpy.float64'> cannot be safely interpreted as an integer.\n",
      "  bins = np.linspace(-0.5, 0.5, np.ceil(1./resolution), endpoint=False)\n",
      "/home/js7561/dev/librosa/librosa/core/pitch.py:157: DeprecationWarning: object of type <class 'numpy.float64'> cannot be safely interpreted as an integer.\n",
      "  bins = np.linspace(-0.5, 0.5, np.ceil(1./resolution), endpoint=False)\n",
      "/home/js7561/dev/librosa/librosa/core/pitch.py:157: DeprecationWarning: object of type <class 'numpy.float64'> cannot be safely interpreted as an integer.\n",
      "  bins = np.linspace(-0.5, 0.5, np.ceil(1./resolution), endpoint=False)\n",
      "/home/js7561/dev/librosa/librosa/core/pitch.py:157: DeprecationWarning: object of type <class 'numpy.float64'> cannot be safely interpreted as an integer.\n",
      "  bins = np.linspace(-0.5, 0.5, np.ceil(1./resolution), endpoint=False)\n",
      "/home/js7561/dev/librosa/librosa/core/pitch.py:157: DeprecationWarning: object of type <class 'numpy.float64'> cannot be safely interpreted as an integer.\n",
      "  bins = np.linspace(-0.5, 0.5, np.ceil(1./resolution), endpoint=False)\n"
     ]
    },
    {
     "name": "stdout",
     "output_type": "stream",
     "text": [
      "1 AimeeNorwich_Child\n"
     ]
    },
    {
     "name": "stderr",
     "output_type": "stream",
     "text": [
      "/home/js7561/dev/librosa/librosa/core/pitch.py:157: DeprecationWarning: object of type <class 'numpy.float64'> cannot be safely interpreted as an integer.\n",
      "  bins = np.linspace(-0.5, 0.5, np.ceil(1./resolution), endpoint=False)\n",
      "/home/js7561/dev/librosa/librosa/core/pitch.py:157: DeprecationWarning: object of type <class 'numpy.float64'> cannot be safely interpreted as an integer.\n",
      "  bins = np.linspace(-0.5, 0.5, np.ceil(1./resolution), endpoint=False)\n",
      "/home/js7561/dev/librosa/librosa/core/pitch.py:157: DeprecationWarning: object of type <class 'numpy.float64'> cannot be safely interpreted as an integer.\n",
      "  bins = np.linspace(-0.5, 0.5, np.ceil(1./resolution), endpoint=False)\n",
      "/home/js7561/dev/librosa/librosa/core/pitch.py:157: DeprecationWarning: object of type <class 'numpy.float64'> cannot be safely interpreted as an integer.\n",
      "  bins = np.linspace(-0.5, 0.5, np.ceil(1./resolution), endpoint=False)\n",
      "/home/js7561/dev/librosa/librosa/core/pitch.py:157: DeprecationWarning: object of type <class 'numpy.float64'> cannot be safely interpreted as an integer.\n",
      "  bins = np.linspace(-0.5, 0.5, np.ceil(1./resolution), endpoint=False)\n",
      "/home/js7561/dev/librosa/librosa/core/pitch.py:157: DeprecationWarning: object of type <class 'numpy.float64'> cannot be safely interpreted as an integer.\n",
      "  bins = np.linspace(-0.5, 0.5, np.ceil(1./resolution), endpoint=False)\n",
      "/home/js7561/dev/librosa/librosa/core/pitch.py:157: DeprecationWarning: object of type <class 'numpy.float64'> cannot be safely interpreted as an integer.\n",
      "  bins = np.linspace(-0.5, 0.5, np.ceil(1./resolution), endpoint=False)\n",
      "/home/js7561/dev/librosa/librosa/core/pitch.py:157: DeprecationWarning: object of type <class 'numpy.float64'> cannot be safely interpreted as an integer.\n",
      "  bins = np.linspace(-0.5, 0.5, np.ceil(1./resolution), endpoint=False)\n"
     ]
    },
    {
     "name": "stdout",
     "output_type": "stream",
     "text": [
      "2 AimeeNorwich_Flying\n"
     ]
    },
    {
     "name": "stderr",
     "output_type": "stream",
     "text": [
      "/home/js7561/dev/librosa/librosa/core/pitch.py:157: DeprecationWarning: object of type <class 'numpy.float64'> cannot be safely interpreted as an integer.\n",
      "  bins = np.linspace(-0.5, 0.5, np.ceil(1./resolution), endpoint=False)\n",
      "/home/js7561/dev/librosa/librosa/core/pitch.py:157: DeprecationWarning: object of type <class 'numpy.float64'> cannot be safely interpreted as an integer.\n",
      "  bins = np.linspace(-0.5, 0.5, np.ceil(1./resolution), endpoint=False)\n",
      "/home/js7561/dev/librosa/librosa/core/pitch.py:157: DeprecationWarning: object of type <class 'numpy.float64'> cannot be safely interpreted as an integer.\n",
      "  bins = np.linspace(-0.5, 0.5, np.ceil(1./resolution), endpoint=False)\n",
      "/home/js7561/dev/librosa/librosa/core/pitch.py:157: DeprecationWarning: object of type <class 'numpy.float64'> cannot be safely interpreted as an integer.\n",
      "  bins = np.linspace(-0.5, 0.5, np.ceil(1./resolution), endpoint=False)\n",
      "/home/js7561/dev/librosa/librosa/core/pitch.py:157: DeprecationWarning: object of type <class 'numpy.float64'> cannot be safely interpreted as an integer.\n",
      "  bins = np.linspace(-0.5, 0.5, np.ceil(1./resolution), endpoint=False)\n",
      "/home/js7561/dev/librosa/librosa/core/pitch.py:157: DeprecationWarning: object of type <class 'numpy.float64'> cannot be safely interpreted as an integer.\n",
      "  bins = np.linspace(-0.5, 0.5, np.ceil(1./resolution), endpoint=False)\n",
      "/home/js7561/dev/librosa/librosa/core/pitch.py:157: DeprecationWarning: object of type <class 'numpy.float64'> cannot be safely interpreted as an integer.\n",
      "  bins = np.linspace(-0.5, 0.5, np.ceil(1./resolution), endpoint=False)\n",
      "/home/js7561/dev/librosa/librosa/core/pitch.py:157: DeprecationWarning: object of type <class 'numpy.float64'> cannot be safely interpreted as an integer.\n",
      "  bins = np.linspace(-0.5, 0.5, np.ceil(1./resolution), endpoint=False)\n"
     ]
    },
    {
     "name": "stdout",
     "output_type": "stream",
     "text": [
      "3 AlexanderRoss_GoodbyeBolero\n"
     ]
    },
    {
     "name": "stderr",
     "output_type": "stream",
     "text": [
      "/home/js7561/dev/librosa/librosa/core/pitch.py:157: DeprecationWarning: object of type <class 'numpy.float64'> cannot be safely interpreted as an integer.\n",
      "  bins = np.linspace(-0.5, 0.5, np.ceil(1./resolution), endpoint=False)\n",
      "/home/js7561/dev/librosa/librosa/core/pitch.py:157: DeprecationWarning: object of type <class 'numpy.float64'> cannot be safely interpreted as an integer.\n",
      "  bins = np.linspace(-0.5, 0.5, np.ceil(1./resolution), endpoint=False)\n",
      "/home/js7561/dev/librosa/librosa/core/pitch.py:157: DeprecationWarning: object of type <class 'numpy.float64'> cannot be safely interpreted as an integer.\n",
      "  bins = np.linspace(-0.5, 0.5, np.ceil(1./resolution), endpoint=False)\n",
      "/home/js7561/dev/librosa/librosa/core/pitch.py:157: DeprecationWarning: object of type <class 'numpy.float64'> cannot be safely interpreted as an integer.\n",
      "  bins = np.linspace(-0.5, 0.5, np.ceil(1./resolution), endpoint=False)\n",
      "/home/js7561/dev/librosa/librosa/core/pitch.py:157: DeprecationWarning: object of type <class 'numpy.float64'> cannot be safely interpreted as an integer.\n",
      "  bins = np.linspace(-0.5, 0.5, np.ceil(1./resolution), endpoint=False)\n",
      "/home/js7561/dev/librosa/librosa/core/pitch.py:157: DeprecationWarning: object of type <class 'numpy.float64'> cannot be safely interpreted as an integer.\n",
      "  bins = np.linspace(-0.5, 0.5, np.ceil(1./resolution), endpoint=False)\n",
      "/home/js7561/dev/librosa/librosa/core/pitch.py:157: DeprecationWarning: object of type <class 'numpy.float64'> cannot be safely interpreted as an integer.\n",
      "  bins = np.linspace(-0.5, 0.5, np.ceil(1./resolution), endpoint=False)\n",
      "/home/js7561/dev/librosa/librosa/core/pitch.py:157: DeprecationWarning: object of type <class 'numpy.float64'> cannot be safely interpreted as an integer.\n",
      "  bins = np.linspace(-0.5, 0.5, np.ceil(1./resolution), endpoint=False)\n"
     ]
    },
    {
     "name": "stdout",
     "output_type": "stream",
     "text": [
      "4 AlexanderRoss_VelvetCurtain\n"
     ]
    },
    {
     "name": "stderr",
     "output_type": "stream",
     "text": [
      "/home/js7561/dev/librosa/librosa/core/pitch.py:157: DeprecationWarning: object of type <class 'numpy.float64'> cannot be safely interpreted as an integer.\n",
      "  bins = np.linspace(-0.5, 0.5, np.ceil(1./resolution), endpoint=False)\n",
      "/home/js7561/dev/librosa/librosa/core/pitch.py:157: DeprecationWarning: object of type <class 'numpy.float64'> cannot be safely interpreted as an integer.\n",
      "  bins = np.linspace(-0.5, 0.5, np.ceil(1./resolution), endpoint=False)\n",
      "/home/js7561/dev/librosa/librosa/core/pitch.py:157: DeprecationWarning: object of type <class 'numpy.float64'> cannot be safely interpreted as an integer.\n",
      "  bins = np.linspace(-0.5, 0.5, np.ceil(1./resolution), endpoint=False)\n",
      "/home/js7561/dev/librosa/librosa/core/pitch.py:157: DeprecationWarning: object of type <class 'numpy.float64'> cannot be safely interpreted as an integer.\n",
      "  bins = np.linspace(-0.5, 0.5, np.ceil(1./resolution), endpoint=False)\n",
      "/home/js7561/dev/librosa/librosa/core/pitch.py:157: DeprecationWarning: object of type <class 'numpy.float64'> cannot be safely interpreted as an integer.\n",
      "  bins = np.linspace(-0.5, 0.5, np.ceil(1./resolution), endpoint=False)\n",
      "/home/js7561/dev/librosa/librosa/core/pitch.py:157: DeprecationWarning: object of type <class 'numpy.float64'> cannot be safely interpreted as an integer.\n",
      "  bins = np.linspace(-0.5, 0.5, np.ceil(1./resolution), endpoint=False)\n",
      "/home/js7561/dev/librosa/librosa/core/pitch.py:157: DeprecationWarning: object of type <class 'numpy.float64'> cannot be safely interpreted as an integer.\n",
      "  bins = np.linspace(-0.5, 0.5, np.ceil(1./resolution), endpoint=False)\n",
      "/home/js7561/dev/librosa/librosa/core/pitch.py:157: DeprecationWarning: object of type <class 'numpy.float64'> cannot be safely interpreted as an integer.\n",
      "  bins = np.linspace(-0.5, 0.5, np.ceil(1./resolution), endpoint=False)\n"
     ]
    },
    {
     "name": "stdout",
     "output_type": "stream",
     "text": [
      "5 AmarLal_Rest\n"
     ]
    },
    {
     "name": "stderr",
     "output_type": "stream",
     "text": [
      "/home/js7561/dev/librosa/librosa/core/pitch.py:157: DeprecationWarning: object of type <class 'numpy.float64'> cannot be safely interpreted as an integer.\n",
      "  bins = np.linspace(-0.5, 0.5, np.ceil(1./resolution), endpoint=False)\n",
      "/home/js7561/dev/librosa/librosa/core/pitch.py:157: DeprecationWarning: object of type <class 'numpy.float64'> cannot be safely interpreted as an integer.\n",
      "  bins = np.linspace(-0.5, 0.5, np.ceil(1./resolution), endpoint=False)\n",
      "/home/js7561/dev/librosa/librosa/core/pitch.py:157: DeprecationWarning: object of type <class 'numpy.float64'> cannot be safely interpreted as an integer.\n",
      "  bins = np.linspace(-0.5, 0.5, np.ceil(1./resolution), endpoint=False)\n",
      "/home/js7561/dev/librosa/librosa/core/pitch.py:157: DeprecationWarning: object of type <class 'numpy.float64'> cannot be safely interpreted as an integer.\n",
      "  bins = np.linspace(-0.5, 0.5, np.ceil(1./resolution), endpoint=False)\n",
      "/home/js7561/dev/librosa/librosa/core/pitch.py:157: DeprecationWarning: object of type <class 'numpy.float64'> cannot be safely interpreted as an integer.\n",
      "  bins = np.linspace(-0.5, 0.5, np.ceil(1./resolution), endpoint=False)\n",
      "/home/js7561/dev/librosa/librosa/core/pitch.py:157: DeprecationWarning: object of type <class 'numpy.float64'> cannot be safely interpreted as an integer.\n",
      "  bins = np.linspace(-0.5, 0.5, np.ceil(1./resolution), endpoint=False)\n",
      "/home/js7561/dev/librosa/librosa/core/pitch.py:157: DeprecationWarning: object of type <class 'numpy.float64'> cannot be safely interpreted as an integer.\n",
      "  bins = np.linspace(-0.5, 0.5, np.ceil(1./resolution), endpoint=False)\n",
      "/home/js7561/dev/librosa/librosa/core/pitch.py:157: DeprecationWarning: object of type <class 'numpy.float64'> cannot be safely interpreted as an integer.\n",
      "  bins = np.linspace(-0.5, 0.5, np.ceil(1./resolution), endpoint=False)\n"
     ]
    },
    {
     "name": "stdout",
     "output_type": "stream",
     "text": [
      "6 AmarLal_SpringDay1\n"
     ]
    },
    {
     "name": "stderr",
     "output_type": "stream",
     "text": [
      "/home/js7561/dev/librosa/librosa/core/pitch.py:157: DeprecationWarning: object of type <class 'numpy.float64'> cannot be safely interpreted as an integer.\n",
      "  bins = np.linspace(-0.5, 0.5, np.ceil(1./resolution), endpoint=False)\n",
      "/home/js7561/dev/librosa/librosa/core/pitch.py:157: DeprecationWarning: object of type <class 'numpy.float64'> cannot be safely interpreted as an integer.\n",
      "  bins = np.linspace(-0.5, 0.5, np.ceil(1./resolution), endpoint=False)\n",
      "/home/js7561/dev/librosa/librosa/core/pitch.py:157: DeprecationWarning: object of type <class 'numpy.float64'> cannot be safely interpreted as an integer.\n",
      "  bins = np.linspace(-0.5, 0.5, np.ceil(1./resolution), endpoint=False)\n",
      "/home/js7561/dev/librosa/librosa/core/pitch.py:157: DeprecationWarning: object of type <class 'numpy.float64'> cannot be safely interpreted as an integer.\n",
      "  bins = np.linspace(-0.5, 0.5, np.ceil(1./resolution), endpoint=False)\n",
      "/home/js7561/dev/librosa/librosa/core/pitch.py:157: DeprecationWarning: object of type <class 'numpy.float64'> cannot be safely interpreted as an integer.\n",
      "  bins = np.linspace(-0.5, 0.5, np.ceil(1./resolution), endpoint=False)\n",
      "/home/js7561/dev/librosa/librosa/core/pitch.py:157: DeprecationWarning: object of type <class 'numpy.float64'> cannot be safely interpreted as an integer.\n",
      "  bins = np.linspace(-0.5, 0.5, np.ceil(1./resolution), endpoint=False)\n",
      "/home/js7561/dev/librosa/librosa/core/pitch.py:157: DeprecationWarning: object of type <class 'numpy.float64'> cannot be safely interpreted as an integer.\n",
      "  bins = np.linspace(-0.5, 0.5, np.ceil(1./resolution), endpoint=False)\n",
      "/home/js7561/dev/librosa/librosa/core/pitch.py:157: DeprecationWarning: object of type <class 'numpy.float64'> cannot be safely interpreted as an integer.\n",
      "  bins = np.linspace(-0.5, 0.5, np.ceil(1./resolution), endpoint=False)\n"
     ]
    },
    {
     "name": "stdout",
     "output_type": "stream",
     "text": [
      "7 Auctioneer_OurFutureFaces\n"
     ]
    },
    {
     "name": "stderr",
     "output_type": "stream",
     "text": [
      "/home/js7561/dev/librosa/librosa/core/pitch.py:157: DeprecationWarning: object of type <class 'numpy.float64'> cannot be safely interpreted as an integer.\n",
      "  bins = np.linspace(-0.5, 0.5, np.ceil(1./resolution), endpoint=False)\n",
      "/home/js7561/dev/librosa/librosa/core/pitch.py:157: DeprecationWarning: object of type <class 'numpy.float64'> cannot be safely interpreted as an integer.\n",
      "  bins = np.linspace(-0.5, 0.5, np.ceil(1./resolution), endpoint=False)\n",
      "/home/js7561/dev/librosa/librosa/core/pitch.py:157: DeprecationWarning: object of type <class 'numpy.float64'> cannot be safely interpreted as an integer.\n",
      "  bins = np.linspace(-0.5, 0.5, np.ceil(1./resolution), endpoint=False)\n",
      "/home/js7561/dev/librosa/librosa/core/pitch.py:157: DeprecationWarning: object of type <class 'numpy.float64'> cannot be safely interpreted as an integer.\n",
      "  bins = np.linspace(-0.5, 0.5, np.ceil(1./resolution), endpoint=False)\n",
      "/home/js7561/dev/librosa/librosa/core/pitch.py:157: DeprecationWarning: object of type <class 'numpy.float64'> cannot be safely interpreted as an integer.\n",
      "  bins = np.linspace(-0.5, 0.5, np.ceil(1./resolution), endpoint=False)\n",
      "/home/js7561/dev/librosa/librosa/core/pitch.py:157: DeprecationWarning: object of type <class 'numpy.float64'> cannot be safely interpreted as an integer.\n",
      "  bins = np.linspace(-0.5, 0.5, np.ceil(1./resolution), endpoint=False)\n",
      "/home/js7561/dev/librosa/librosa/core/pitch.py:157: DeprecationWarning: object of type <class 'numpy.float64'> cannot be safely interpreted as an integer.\n",
      "  bins = np.linspace(-0.5, 0.5, np.ceil(1./resolution), endpoint=False)\n",
      "/home/js7561/dev/librosa/librosa/core/pitch.py:157: DeprecationWarning: object of type <class 'numpy.float64'> cannot be safely interpreted as an integer.\n",
      "  bins = np.linspace(-0.5, 0.5, np.ceil(1./resolution), endpoint=False)\n"
     ]
    },
    {
     "name": "stdout",
     "output_type": "stream",
     "text": [
      "8 AvaLuna_Waterduct\n"
     ]
    },
    {
     "name": "stderr",
     "output_type": "stream",
     "text": [
      "/home/js7561/dev/librosa/librosa/core/pitch.py:157: DeprecationWarning: object of type <class 'numpy.float64'> cannot be safely interpreted as an integer.\n",
      "  bins = np.linspace(-0.5, 0.5, np.ceil(1./resolution), endpoint=False)\n",
      "/home/js7561/dev/librosa/librosa/core/pitch.py:157: DeprecationWarning: object of type <class 'numpy.float64'> cannot be safely interpreted as an integer.\n",
      "  bins = np.linspace(-0.5, 0.5, np.ceil(1./resolution), endpoint=False)\n",
      "/home/js7561/dev/librosa/librosa/core/pitch.py:157: DeprecationWarning: object of type <class 'numpy.float64'> cannot be safely interpreted as an integer.\n",
      "  bins = np.linspace(-0.5, 0.5, np.ceil(1./resolution), endpoint=False)\n",
      "/home/js7561/dev/librosa/librosa/core/pitch.py:157: DeprecationWarning: object of type <class 'numpy.float64'> cannot be safely interpreted as an integer.\n",
      "  bins = np.linspace(-0.5, 0.5, np.ceil(1./resolution), endpoint=False)\n",
      "/home/js7561/dev/librosa/librosa/core/pitch.py:157: DeprecationWarning: object of type <class 'numpy.float64'> cannot be safely interpreted as an integer.\n",
      "  bins = np.linspace(-0.5, 0.5, np.ceil(1./resolution), endpoint=False)\n",
      "/home/js7561/dev/librosa/librosa/core/pitch.py:157: DeprecationWarning: object of type <class 'numpy.float64'> cannot be safely interpreted as an integer.\n",
      "  bins = np.linspace(-0.5, 0.5, np.ceil(1./resolution), endpoint=False)\n",
      "/home/js7561/dev/librosa/librosa/core/pitch.py:157: DeprecationWarning: object of type <class 'numpy.float64'> cannot be safely interpreted as an integer.\n",
      "  bins = np.linspace(-0.5, 0.5, np.ceil(1./resolution), endpoint=False)\n",
      "/home/js7561/dev/librosa/librosa/core/pitch.py:157: DeprecationWarning: object of type <class 'numpy.float64'> cannot be safely interpreted as an integer.\n",
      "  bins = np.linspace(-0.5, 0.5, np.ceil(1./resolution), endpoint=False)\n"
     ]
    },
    {
     "name": "stdout",
     "output_type": "stream",
     "text": [
      "9 BigTroubles_Phantom\n"
     ]
    },
    {
     "name": "stderr",
     "output_type": "stream",
     "text": [
      "/home/js7561/dev/librosa/librosa/core/pitch.py:157: DeprecationWarning: object of type <class 'numpy.float64'> cannot be safely interpreted as an integer.\n",
      "  bins = np.linspace(-0.5, 0.5, np.ceil(1./resolution), endpoint=False)\n",
      "/home/js7561/dev/librosa/librosa/core/pitch.py:157: DeprecationWarning: object of type <class 'numpy.float64'> cannot be safely interpreted as an integer.\n",
      "  bins = np.linspace(-0.5, 0.5, np.ceil(1./resolution), endpoint=False)\n",
      "/home/js7561/dev/librosa/librosa/core/pitch.py:157: DeprecationWarning: object of type <class 'numpy.float64'> cannot be safely interpreted as an integer.\n",
      "  bins = np.linspace(-0.5, 0.5, np.ceil(1./resolution), endpoint=False)\n",
      "/home/js7561/dev/librosa/librosa/core/pitch.py:157: DeprecationWarning: object of type <class 'numpy.float64'> cannot be safely interpreted as an integer.\n",
      "  bins = np.linspace(-0.5, 0.5, np.ceil(1./resolution), endpoint=False)\n",
      "/home/js7561/dev/librosa/librosa/core/pitch.py:157: DeprecationWarning: object of type <class 'numpy.float64'> cannot be safely interpreted as an integer.\n",
      "  bins = np.linspace(-0.5, 0.5, np.ceil(1./resolution), endpoint=False)\n",
      "/home/js7561/dev/librosa/librosa/core/pitch.py:157: DeprecationWarning: object of type <class 'numpy.float64'> cannot be safely interpreted as an integer.\n",
      "  bins = np.linspace(-0.5, 0.5, np.ceil(1./resolution), endpoint=False)\n",
      "/home/js7561/dev/librosa/librosa/core/pitch.py:157: DeprecationWarning: object of type <class 'numpy.float64'> cannot be safely interpreted as an integer.\n",
      "  bins = np.linspace(-0.5, 0.5, np.ceil(1./resolution), endpoint=False)\n",
      "/home/js7561/dev/librosa/librosa/core/pitch.py:157: DeprecationWarning: object of type <class 'numpy.float64'> cannot be safely interpreted as an integer.\n",
      "  bins = np.linspace(-0.5, 0.5, np.ceil(1./resolution), endpoint=False)\n"
     ]
    },
    {
     "name": "stdout",
     "output_type": "stream",
     "text": [
      "10 BrandonWebster_DontHearAThing\n"
     ]
    },
    {
     "name": "stderr",
     "output_type": "stream",
     "text": [
      "/home/js7561/dev/librosa/librosa/core/pitch.py:157: DeprecationWarning: object of type <class 'numpy.float64'> cannot be safely interpreted as an integer.\n",
      "  bins = np.linspace(-0.5, 0.5, np.ceil(1./resolution), endpoint=False)\n",
      "/home/js7561/dev/librosa/librosa/core/pitch.py:157: DeprecationWarning: object of type <class 'numpy.float64'> cannot be safely interpreted as an integer.\n",
      "  bins = np.linspace(-0.5, 0.5, np.ceil(1./resolution), endpoint=False)\n",
      "/home/js7561/dev/librosa/librosa/core/pitch.py:157: DeprecationWarning: object of type <class 'numpy.float64'> cannot be safely interpreted as an integer.\n",
      "  bins = np.linspace(-0.5, 0.5, np.ceil(1./resolution), endpoint=False)\n",
      "/home/js7561/dev/librosa/librosa/core/pitch.py:157: DeprecationWarning: object of type <class 'numpy.float64'> cannot be safely interpreted as an integer.\n",
      "  bins = np.linspace(-0.5, 0.5, np.ceil(1./resolution), endpoint=False)\n",
      "/home/js7561/dev/librosa/librosa/core/pitch.py:157: DeprecationWarning: object of type <class 'numpy.float64'> cannot be safely interpreted as an integer.\n",
      "  bins = np.linspace(-0.5, 0.5, np.ceil(1./resolution), endpoint=False)\n",
      "/home/js7561/dev/librosa/librosa/core/pitch.py:157: DeprecationWarning: object of type <class 'numpy.float64'> cannot be safely interpreted as an integer.\n",
      "  bins = np.linspace(-0.5, 0.5, np.ceil(1./resolution), endpoint=False)\n",
      "/home/js7561/dev/librosa/librosa/core/pitch.py:157: DeprecationWarning: object of type <class 'numpy.float64'> cannot be safely interpreted as an integer.\n",
      "  bins = np.linspace(-0.5, 0.5, np.ceil(1./resolution), endpoint=False)\n",
      "/home/js7561/dev/librosa/librosa/core/pitch.py:157: DeprecationWarning: object of type <class 'numpy.float64'> cannot be safely interpreted as an integer.\n",
      "  bins = np.linspace(-0.5, 0.5, np.ceil(1./resolution), endpoint=False)\n"
     ]
    },
    {
     "name": "stdout",
     "output_type": "stream",
     "text": [
      "11 BrandonWebster_YesSirICanFly\n"
     ]
    },
    {
     "name": "stderr",
     "output_type": "stream",
     "text": [
      "/home/js7561/dev/librosa/librosa/core/pitch.py:157: DeprecationWarning: object of type <class 'numpy.float64'> cannot be safely interpreted as an integer.\n",
      "  bins = np.linspace(-0.5, 0.5, np.ceil(1./resolution), endpoint=False)\n",
      "/home/js7561/dev/librosa/librosa/core/pitch.py:157: DeprecationWarning: object of type <class 'numpy.float64'> cannot be safely interpreted as an integer.\n",
      "  bins = np.linspace(-0.5, 0.5, np.ceil(1./resolution), endpoint=False)\n",
      "/home/js7561/dev/librosa/librosa/core/pitch.py:157: DeprecationWarning: object of type <class 'numpy.float64'> cannot be safely interpreted as an integer.\n",
      "  bins = np.linspace(-0.5, 0.5, np.ceil(1./resolution), endpoint=False)\n",
      "/home/js7561/dev/librosa/librosa/core/pitch.py:157: DeprecationWarning: object of type <class 'numpy.float64'> cannot be safely interpreted as an integer.\n",
      "  bins = np.linspace(-0.5, 0.5, np.ceil(1./resolution), endpoint=False)\n",
      "/home/js7561/dev/librosa/librosa/core/pitch.py:157: DeprecationWarning: object of type <class 'numpy.float64'> cannot be safely interpreted as an integer.\n",
      "  bins = np.linspace(-0.5, 0.5, np.ceil(1./resolution), endpoint=False)\n",
      "/home/js7561/dev/librosa/librosa/core/pitch.py:157: DeprecationWarning: object of type <class 'numpy.float64'> cannot be safely interpreted as an integer.\n",
      "  bins = np.linspace(-0.5, 0.5, np.ceil(1./resolution), endpoint=False)\n",
      "/home/js7561/dev/librosa/librosa/core/pitch.py:157: DeprecationWarning: object of type <class 'numpy.float64'> cannot be safely interpreted as an integer.\n",
      "  bins = np.linspace(-0.5, 0.5, np.ceil(1./resolution), endpoint=False)\n",
      "/home/js7561/dev/librosa/librosa/core/pitch.py:157: DeprecationWarning: object of type <class 'numpy.float64'> cannot be safely interpreted as an integer.\n",
      "  bins = np.linspace(-0.5, 0.5, np.ceil(1./resolution), endpoint=False)\n"
     ]
    },
    {
     "name": "stdout",
     "output_type": "stream",
     "text": [
      "12 CelestialShore_DieForUs\n"
     ]
    },
    {
     "name": "stderr",
     "output_type": "stream",
     "text": [
      "/home/js7561/dev/librosa/librosa/core/pitch.py:157: DeprecationWarning: object of type <class 'numpy.float64'> cannot be safely interpreted as an integer.\n",
      "  bins = np.linspace(-0.5, 0.5, np.ceil(1./resolution), endpoint=False)\n",
      "/home/js7561/dev/librosa/librosa/core/pitch.py:157: DeprecationWarning: object of type <class 'numpy.float64'> cannot be safely interpreted as an integer.\n",
      "  bins = np.linspace(-0.5, 0.5, np.ceil(1./resolution), endpoint=False)\n",
      "/home/js7561/dev/librosa/librosa/core/pitch.py:157: DeprecationWarning: object of type <class 'numpy.float64'> cannot be safely interpreted as an integer.\n",
      "  bins = np.linspace(-0.5, 0.5, np.ceil(1./resolution), endpoint=False)\n",
      "/home/js7561/dev/librosa/librosa/core/pitch.py:157: DeprecationWarning: object of type <class 'numpy.float64'> cannot be safely interpreted as an integer.\n",
      "  bins = np.linspace(-0.5, 0.5, np.ceil(1./resolution), endpoint=False)\n",
      "/home/js7561/dev/librosa/librosa/core/pitch.py:157: DeprecationWarning: object of type <class 'numpy.float64'> cannot be safely interpreted as an integer.\n",
      "  bins = np.linspace(-0.5, 0.5, np.ceil(1./resolution), endpoint=False)\n",
      "/home/js7561/dev/librosa/librosa/core/pitch.py:157: DeprecationWarning: object of type <class 'numpy.float64'> cannot be safely interpreted as an integer.\n",
      "  bins = np.linspace(-0.5, 0.5, np.ceil(1./resolution), endpoint=False)\n",
      "/home/js7561/dev/librosa/librosa/core/pitch.py:157: DeprecationWarning: object of type <class 'numpy.float64'> cannot be safely interpreted as an integer.\n",
      "  bins = np.linspace(-0.5, 0.5, np.ceil(1./resolution), endpoint=False)\n",
      "/home/js7561/dev/librosa/librosa/core/pitch.py:157: DeprecationWarning: object of type <class 'numpy.float64'> cannot be safely interpreted as an integer.\n",
      "  bins = np.linspace(-0.5, 0.5, np.ceil(1./resolution), endpoint=False)\n"
     ]
    },
    {
     "name": "stdout",
     "output_type": "stream",
     "text": [
      "13 ChrisJacoby_BoothShotLincoln\n"
     ]
    },
    {
     "name": "stderr",
     "output_type": "stream",
     "text": [
      "/home/js7561/dev/librosa/librosa/core/pitch.py:157: DeprecationWarning: object of type <class 'numpy.float64'> cannot be safely interpreted as an integer.\n",
      "  bins = np.linspace(-0.5, 0.5, np.ceil(1./resolution), endpoint=False)\n",
      "/home/js7561/dev/librosa/librosa/core/pitch.py:157: DeprecationWarning: object of type <class 'numpy.float64'> cannot be safely interpreted as an integer.\n",
      "  bins = np.linspace(-0.5, 0.5, np.ceil(1./resolution), endpoint=False)\n",
      "/home/js7561/dev/librosa/librosa/core/pitch.py:157: DeprecationWarning: object of type <class 'numpy.float64'> cannot be safely interpreted as an integer.\n",
      "  bins = np.linspace(-0.5, 0.5, np.ceil(1./resolution), endpoint=False)\n",
      "/home/js7561/dev/librosa/librosa/core/pitch.py:157: DeprecationWarning: object of type <class 'numpy.float64'> cannot be safely interpreted as an integer.\n",
      "  bins = np.linspace(-0.5, 0.5, np.ceil(1./resolution), endpoint=False)\n",
      "/home/js7561/dev/librosa/librosa/core/pitch.py:157: DeprecationWarning: object of type <class 'numpy.float64'> cannot be safely interpreted as an integer.\n",
      "  bins = np.linspace(-0.5, 0.5, np.ceil(1./resolution), endpoint=False)\n",
      "/home/js7561/dev/librosa/librosa/core/pitch.py:157: DeprecationWarning: object of type <class 'numpy.float64'> cannot be safely interpreted as an integer.\n",
      "  bins = np.linspace(-0.5, 0.5, np.ceil(1./resolution), endpoint=False)\n",
      "/home/js7561/dev/librosa/librosa/core/pitch.py:157: DeprecationWarning: object of type <class 'numpy.float64'> cannot be safely interpreted as an integer.\n",
      "  bins = np.linspace(-0.5, 0.5, np.ceil(1./resolution), endpoint=False)\n",
      "/home/js7561/dev/librosa/librosa/core/pitch.py:157: DeprecationWarning: object of type <class 'numpy.float64'> cannot be safely interpreted as an integer.\n",
      "  bins = np.linspace(-0.5, 0.5, np.ceil(1./resolution), endpoint=False)\n"
     ]
    },
    {
     "name": "stdout",
     "output_type": "stream",
     "text": [
      "14 ChrisJacoby_PigsFoot\n"
     ]
    },
    {
     "name": "stderr",
     "output_type": "stream",
     "text": [
      "/home/js7561/dev/librosa/librosa/core/pitch.py:157: DeprecationWarning: object of type <class 'numpy.float64'> cannot be safely interpreted as an integer.\n",
      "  bins = np.linspace(-0.5, 0.5, np.ceil(1./resolution), endpoint=False)\n",
      "/home/js7561/dev/librosa/librosa/core/pitch.py:157: DeprecationWarning: object of type <class 'numpy.float64'> cannot be safely interpreted as an integer.\n",
      "  bins = np.linspace(-0.5, 0.5, np.ceil(1./resolution), endpoint=False)\n",
      "/home/js7561/dev/librosa/librosa/core/pitch.py:157: DeprecationWarning: object of type <class 'numpy.float64'> cannot be safely interpreted as an integer.\n",
      "  bins = np.linspace(-0.5, 0.5, np.ceil(1./resolution), endpoint=False)\n",
      "/home/js7561/dev/librosa/librosa/core/pitch.py:157: DeprecationWarning: object of type <class 'numpy.float64'> cannot be safely interpreted as an integer.\n",
      "  bins = np.linspace(-0.5, 0.5, np.ceil(1./resolution), endpoint=False)\n",
      "/home/js7561/dev/librosa/librosa/core/pitch.py:157: DeprecationWarning: object of type <class 'numpy.float64'> cannot be safely interpreted as an integer.\n",
      "  bins = np.linspace(-0.5, 0.5, np.ceil(1./resolution), endpoint=False)\n",
      "/home/js7561/dev/librosa/librosa/core/pitch.py:157: DeprecationWarning: object of type <class 'numpy.float64'> cannot be safely interpreted as an integer.\n",
      "  bins = np.linspace(-0.5, 0.5, np.ceil(1./resolution), endpoint=False)\n",
      "/home/js7561/dev/librosa/librosa/core/pitch.py:157: DeprecationWarning: object of type <class 'numpy.float64'> cannot be safely interpreted as an integer.\n",
      "  bins = np.linspace(-0.5, 0.5, np.ceil(1./resolution), endpoint=False)\n",
      "/home/js7561/dev/librosa/librosa/core/pitch.py:157: DeprecationWarning: object of type <class 'numpy.float64'> cannot be safely interpreted as an integer.\n",
      "  bins = np.linspace(-0.5, 0.5, np.ceil(1./resolution), endpoint=False)\n"
     ]
    },
    {
     "name": "stdout",
     "output_type": "stream",
     "text": [
      "15 ClaraBerryAndWooldog_AirTraffic\n"
     ]
    },
    {
     "name": "stderr",
     "output_type": "stream",
     "text": [
      "/home/js7561/dev/librosa/librosa/core/pitch.py:157: DeprecationWarning: object of type <class 'numpy.float64'> cannot be safely interpreted as an integer.\n",
      "  bins = np.linspace(-0.5, 0.5, np.ceil(1./resolution), endpoint=False)\n",
      "/home/js7561/dev/librosa/librosa/core/pitch.py:157: DeprecationWarning: object of type <class 'numpy.float64'> cannot be safely interpreted as an integer.\n",
      "  bins = np.linspace(-0.5, 0.5, np.ceil(1./resolution), endpoint=False)\n",
      "/home/js7561/dev/librosa/librosa/core/pitch.py:157: DeprecationWarning: object of type <class 'numpy.float64'> cannot be safely interpreted as an integer.\n",
      "  bins = np.linspace(-0.5, 0.5, np.ceil(1./resolution), endpoint=False)\n",
      "/home/js7561/dev/librosa/librosa/core/pitch.py:157: DeprecationWarning: object of type <class 'numpy.float64'> cannot be safely interpreted as an integer.\n",
      "  bins = np.linspace(-0.5, 0.5, np.ceil(1./resolution), endpoint=False)\n",
      "/home/js7561/dev/librosa/librosa/core/pitch.py:157: DeprecationWarning: object of type <class 'numpy.float64'> cannot be safely interpreted as an integer.\n",
      "  bins = np.linspace(-0.5, 0.5, np.ceil(1./resolution), endpoint=False)\n",
      "/home/js7561/dev/librosa/librosa/core/pitch.py:157: DeprecationWarning: object of type <class 'numpy.float64'> cannot be safely interpreted as an integer.\n",
      "  bins = np.linspace(-0.5, 0.5, np.ceil(1./resolution), endpoint=False)\n",
      "/home/js7561/dev/librosa/librosa/core/pitch.py:157: DeprecationWarning: object of type <class 'numpy.float64'> cannot be safely interpreted as an integer.\n",
      "  bins = np.linspace(-0.5, 0.5, np.ceil(1./resolution), endpoint=False)\n",
      "/home/js7561/dev/librosa/librosa/core/pitch.py:157: DeprecationWarning: object of type <class 'numpy.float64'> cannot be safely interpreted as an integer.\n",
      "  bins = np.linspace(-0.5, 0.5, np.ceil(1./resolution), endpoint=False)\n"
     ]
    },
    {
     "name": "stdout",
     "output_type": "stream",
     "text": [
      "16 ClaraBerryAndWooldog_Boys\n"
     ]
    },
    {
     "name": "stderr",
     "output_type": "stream",
     "text": [
      "/home/js7561/dev/librosa/librosa/core/pitch.py:157: DeprecationWarning: object of type <class 'numpy.float64'> cannot be safely interpreted as an integer.\n",
      "  bins = np.linspace(-0.5, 0.5, np.ceil(1./resolution), endpoint=False)\n",
      "/home/js7561/dev/librosa/librosa/core/pitch.py:157: DeprecationWarning: object of type <class 'numpy.float64'> cannot be safely interpreted as an integer.\n",
      "  bins = np.linspace(-0.5, 0.5, np.ceil(1./resolution), endpoint=False)\n",
      "/home/js7561/dev/librosa/librosa/core/pitch.py:157: DeprecationWarning: object of type <class 'numpy.float64'> cannot be safely interpreted as an integer.\n",
      "  bins = np.linspace(-0.5, 0.5, np.ceil(1./resolution), endpoint=False)\n",
      "/home/js7561/dev/librosa/librosa/core/pitch.py:157: DeprecationWarning: object of type <class 'numpy.float64'> cannot be safely interpreted as an integer.\n",
      "  bins = np.linspace(-0.5, 0.5, np.ceil(1./resolution), endpoint=False)\n",
      "/home/js7561/dev/librosa/librosa/core/pitch.py:157: DeprecationWarning: object of type <class 'numpy.float64'> cannot be safely interpreted as an integer.\n",
      "  bins = np.linspace(-0.5, 0.5, np.ceil(1./resolution), endpoint=False)\n",
      "/home/js7561/dev/librosa/librosa/core/pitch.py:157: DeprecationWarning: object of type <class 'numpy.float64'> cannot be safely interpreted as an integer.\n",
      "  bins = np.linspace(-0.5, 0.5, np.ceil(1./resolution), endpoint=False)\n",
      "/home/js7561/dev/librosa/librosa/core/pitch.py:157: DeprecationWarning: object of type <class 'numpy.float64'> cannot be safely interpreted as an integer.\n",
      "  bins = np.linspace(-0.5, 0.5, np.ceil(1./resolution), endpoint=False)\n",
      "/home/js7561/dev/librosa/librosa/core/pitch.py:157: DeprecationWarning: object of type <class 'numpy.float64'> cannot be safely interpreted as an integer.\n",
      "  bins = np.linspace(-0.5, 0.5, np.ceil(1./resolution), endpoint=False)\n"
     ]
    },
    {
     "name": "stdout",
     "output_type": "stream",
     "text": [
      "17 ClaraBerryAndWooldog_Stella\n"
     ]
    },
    {
     "name": "stderr",
     "output_type": "stream",
     "text": [
      "/home/js7561/dev/librosa/librosa/core/pitch.py:157: DeprecationWarning: object of type <class 'numpy.float64'> cannot be safely interpreted as an integer.\n",
      "  bins = np.linspace(-0.5, 0.5, np.ceil(1./resolution), endpoint=False)\n",
      "/home/js7561/dev/librosa/librosa/core/pitch.py:157: DeprecationWarning: object of type <class 'numpy.float64'> cannot be safely interpreted as an integer.\n",
      "  bins = np.linspace(-0.5, 0.5, np.ceil(1./resolution), endpoint=False)\n",
      "/home/js7561/dev/librosa/librosa/core/pitch.py:157: DeprecationWarning: object of type <class 'numpy.float64'> cannot be safely interpreted as an integer.\n",
      "  bins = np.linspace(-0.5, 0.5, np.ceil(1./resolution), endpoint=False)\n",
      "/home/js7561/dev/librosa/librosa/core/pitch.py:157: DeprecationWarning: object of type <class 'numpy.float64'> cannot be safely interpreted as an integer.\n",
      "  bins = np.linspace(-0.5, 0.5, np.ceil(1./resolution), endpoint=False)\n",
      "/home/js7561/dev/librosa/librosa/core/pitch.py:157: DeprecationWarning: object of type <class 'numpy.float64'> cannot be safely interpreted as an integer.\n",
      "  bins = np.linspace(-0.5, 0.5, np.ceil(1./resolution), endpoint=False)\n",
      "/home/js7561/dev/librosa/librosa/core/pitch.py:157: DeprecationWarning: object of type <class 'numpy.float64'> cannot be safely interpreted as an integer.\n",
      "  bins = np.linspace(-0.5, 0.5, np.ceil(1./resolution), endpoint=False)\n",
      "/home/js7561/dev/librosa/librosa/core/pitch.py:157: DeprecationWarning: object of type <class 'numpy.float64'> cannot be safely interpreted as an integer.\n",
      "  bins = np.linspace(-0.5, 0.5, np.ceil(1./resolution), endpoint=False)\n",
      "/home/js7561/dev/librosa/librosa/core/pitch.py:157: DeprecationWarning: object of type <class 'numpy.float64'> cannot be safely interpreted as an integer.\n",
      "  bins = np.linspace(-0.5, 0.5, np.ceil(1./resolution), endpoint=False)\n"
     ]
    },
    {
     "name": "stdout",
     "output_type": "stream",
     "text": [
      "18 ClaraBerryAndWooldog_TheBadGuys\n"
     ]
    },
    {
     "name": "stderr",
     "output_type": "stream",
     "text": [
      "/home/js7561/dev/librosa/librosa/core/pitch.py:157: DeprecationWarning: object of type <class 'numpy.float64'> cannot be safely interpreted as an integer.\n",
      "  bins = np.linspace(-0.5, 0.5, np.ceil(1./resolution), endpoint=False)\n",
      "/home/js7561/dev/librosa/librosa/core/pitch.py:157: DeprecationWarning: object of type <class 'numpy.float64'> cannot be safely interpreted as an integer.\n",
      "  bins = np.linspace(-0.5, 0.5, np.ceil(1./resolution), endpoint=False)\n",
      "/home/js7561/dev/librosa/librosa/core/pitch.py:157: DeprecationWarning: object of type <class 'numpy.float64'> cannot be safely interpreted as an integer.\n",
      "  bins = np.linspace(-0.5, 0.5, np.ceil(1./resolution), endpoint=False)\n",
      "/home/js7561/dev/librosa/librosa/core/pitch.py:157: DeprecationWarning: object of type <class 'numpy.float64'> cannot be safely interpreted as an integer.\n",
      "  bins = np.linspace(-0.5, 0.5, np.ceil(1./resolution), endpoint=False)\n",
      "/home/js7561/dev/librosa/librosa/core/pitch.py:157: DeprecationWarning: object of type <class 'numpy.float64'> cannot be safely interpreted as an integer.\n",
      "  bins = np.linspace(-0.5, 0.5, np.ceil(1./resolution), endpoint=False)\n",
      "/home/js7561/dev/librosa/librosa/core/pitch.py:157: DeprecationWarning: object of type <class 'numpy.float64'> cannot be safely interpreted as an integer.\n",
      "  bins = np.linspace(-0.5, 0.5, np.ceil(1./resolution), endpoint=False)\n",
      "/home/js7561/dev/librosa/librosa/core/pitch.py:157: DeprecationWarning: object of type <class 'numpy.float64'> cannot be safely interpreted as an integer.\n",
      "  bins = np.linspace(-0.5, 0.5, np.ceil(1./resolution), endpoint=False)\n",
      "/home/js7561/dev/librosa/librosa/core/pitch.py:157: DeprecationWarning: object of type <class 'numpy.float64'> cannot be safely interpreted as an integer.\n",
      "  bins = np.linspace(-0.5, 0.5, np.ceil(1./resolution), endpoint=False)\n"
     ]
    },
    {
     "name": "stdout",
     "output_type": "stream",
     "text": [
      "19 ClaraBerryAndWooldog_WaltzForMyVictims\n"
     ]
    },
    {
     "name": "stderr",
     "output_type": "stream",
     "text": [
      "/home/js7561/dev/librosa/librosa/core/pitch.py:157: DeprecationWarning: object of type <class 'numpy.float64'> cannot be safely interpreted as an integer.\n",
      "  bins = np.linspace(-0.5, 0.5, np.ceil(1./resolution), endpoint=False)\n",
      "/home/js7561/dev/librosa/librosa/core/pitch.py:157: DeprecationWarning: object of type <class 'numpy.float64'> cannot be safely interpreted as an integer.\n",
      "  bins = np.linspace(-0.5, 0.5, np.ceil(1./resolution), endpoint=False)\n",
      "/home/js7561/dev/librosa/librosa/core/pitch.py:157: DeprecationWarning: object of type <class 'numpy.float64'> cannot be safely interpreted as an integer.\n",
      "  bins = np.linspace(-0.5, 0.5, np.ceil(1./resolution), endpoint=False)\n",
      "/home/js7561/dev/librosa/librosa/core/pitch.py:157: DeprecationWarning: object of type <class 'numpy.float64'> cannot be safely interpreted as an integer.\n",
      "  bins = np.linspace(-0.5, 0.5, np.ceil(1./resolution), endpoint=False)\n",
      "/home/js7561/dev/librosa/librosa/core/pitch.py:157: DeprecationWarning: object of type <class 'numpy.float64'> cannot be safely interpreted as an integer.\n",
      "  bins = np.linspace(-0.5, 0.5, np.ceil(1./resolution), endpoint=False)\n",
      "/home/js7561/dev/librosa/librosa/core/pitch.py:157: DeprecationWarning: object of type <class 'numpy.float64'> cannot be safely interpreted as an integer.\n",
      "  bins = np.linspace(-0.5, 0.5, np.ceil(1./resolution), endpoint=False)\n",
      "/home/js7561/dev/librosa/librosa/core/pitch.py:157: DeprecationWarning: object of type <class 'numpy.float64'> cannot be safely interpreted as an integer.\n",
      "  bins = np.linspace(-0.5, 0.5, np.ceil(1./resolution), endpoint=False)\n",
      "/home/js7561/dev/librosa/librosa/core/pitch.py:157: DeprecationWarning: object of type <class 'numpy.float64'> cannot be safely interpreted as an integer.\n",
      "  bins = np.linspace(-0.5, 0.5, np.ceil(1./resolution), endpoint=False)\n"
     ]
    },
    {
     "name": "stdout",
     "output_type": "stream",
     "text": [
      "20 Creepoid_OldTree\n"
     ]
    },
    {
     "name": "stderr",
     "output_type": "stream",
     "text": [
      "/home/js7561/dev/librosa/librosa/core/pitch.py:157: DeprecationWarning: object of type <class 'numpy.float64'> cannot be safely interpreted as an integer.\n",
      "  bins = np.linspace(-0.5, 0.5, np.ceil(1./resolution), endpoint=False)\n",
      "/home/js7561/dev/librosa/librosa/core/pitch.py:157: DeprecationWarning: object of type <class 'numpy.float64'> cannot be safely interpreted as an integer.\n",
      "  bins = np.linspace(-0.5, 0.5, np.ceil(1./resolution), endpoint=False)\n",
      "/home/js7561/dev/librosa/librosa/core/pitch.py:157: DeprecationWarning: object of type <class 'numpy.float64'> cannot be safely interpreted as an integer.\n",
      "  bins = np.linspace(-0.5, 0.5, np.ceil(1./resolution), endpoint=False)\n",
      "/home/js7561/dev/librosa/librosa/core/pitch.py:157: DeprecationWarning: object of type <class 'numpy.float64'> cannot be safely interpreted as an integer.\n",
      "  bins = np.linspace(-0.5, 0.5, np.ceil(1./resolution), endpoint=False)\n",
      "/home/js7561/dev/librosa/librosa/core/pitch.py:157: DeprecationWarning: object of type <class 'numpy.float64'> cannot be safely interpreted as an integer.\n",
      "  bins = np.linspace(-0.5, 0.5, np.ceil(1./resolution), endpoint=False)\n",
      "/home/js7561/dev/librosa/librosa/core/pitch.py:157: DeprecationWarning: object of type <class 'numpy.float64'> cannot be safely interpreted as an integer.\n",
      "  bins = np.linspace(-0.5, 0.5, np.ceil(1./resolution), endpoint=False)\n",
      "/home/js7561/dev/librosa/librosa/core/pitch.py:157: DeprecationWarning: object of type <class 'numpy.float64'> cannot be safely interpreted as an integer.\n",
      "  bins = np.linspace(-0.5, 0.5, np.ceil(1./resolution), endpoint=False)\n",
      "/home/js7561/dev/librosa/librosa/core/pitch.py:157: DeprecationWarning: object of type <class 'numpy.float64'> cannot be safely interpreted as an integer.\n",
      "  bins = np.linspace(-0.5, 0.5, np.ceil(1./resolution), endpoint=False)\n"
     ]
    },
    {
     "name": "stdout",
     "output_type": "stream",
     "text": [
      "21 CroqueMadame_Oil\n"
     ]
    },
    {
     "name": "stderr",
     "output_type": "stream",
     "text": [
      "/home/js7561/dev/librosa/librosa/core/pitch.py:157: DeprecationWarning: object of type <class 'numpy.float64'> cannot be safely interpreted as an integer.\n",
      "  bins = np.linspace(-0.5, 0.5, np.ceil(1./resolution), endpoint=False)\n",
      "/home/js7561/dev/librosa/librosa/core/pitch.py:157: DeprecationWarning: object of type <class 'numpy.float64'> cannot be safely interpreted as an integer.\n",
      "  bins = np.linspace(-0.5, 0.5, np.ceil(1./resolution), endpoint=False)\n"
     ]
    }
   ],
   "source": [
    "outputfolder = '/scratch/js7561/datasets/MedleyDB_output/'\n",
    "sr = 44100\n",
    "\n",
    "mtracks = mdb.load_all_multitracks()\n",
    "\n",
    "for n, mt in enumerate(mtracks):\n",
    "    print(n, mt.track_id)\n",
    "    jamfile = os.path.join(jamsfolder, '{:s}.jams'.format(mt.track_id))\n",
    "    audiofile = mt.mix_path\n",
    "    \n",
    "    for dname in deformers.keys():\n",
    "        apply_deformer(mt.track_id, audiofile, jamfile, outputfolder, \n",
    "                       deformer=deformers[dname], pitch_shifts=deformer_params[dname], \n",
    "                       dname=dname, sr=sr)"
   ]
  },
  {
   "cell_type": "code",
   "execution_count": null,
   "metadata": {
    "collapsed": true,
    "deletable": true,
    "editable": true
   },
   "outputs": [],
   "source": [
    ""
   ]
  }
 ],
 "metadata": {
  "kernelspec": {
   "display_name": "Python [conda env:py35hpcT9b]",
   "language": "python",
   "name": "conda-env-py35hpcT9b-py"
  },
  "language_info": {
   "codemirror_mode": {
    "name": "ipython",
    "version": 3.0
   },
   "file_extension": ".py",
   "mimetype": "text/x-python",
   "name": "python",
   "nbconvert_exporter": "python",
   "pygments_lexer": "ipython3",
   "version": "3.5.3"
  }
 },
 "nbformat": 4,
 "nbformat_minor": 0
}